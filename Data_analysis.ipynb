{
  "nbformat": 4,
  "nbformat_minor": 0,
  "metadata": {
    "colab": {
      "name": "Data  analysis.ipynb",
      "provenance": [],
      "authorship_tag": "ABX9TyNY25y15cHcWrh5xDDN5XiD",
      "include_colab_link": true
    },
    "kernelspec": {
      "name": "python3",
      "display_name": "Python 3"
    },
    "language_info": {
      "name": "python"
    }
  },
  "cells": [
    {
      "cell_type": "markdown",
      "metadata": {
        "id": "view-in-github",
        "colab_type": "text"
      },
      "source": [
        "<a href=\"https://colab.research.google.com/github/akshaygaur2407/Akshay/blob/main/Data_analysis.ipynb\" target=\"_parent\"><img src=\"https://colab.research.google.com/assets/colab-badge.svg\" alt=\"Open In Colab\"/></a>"
      ]
    },
    {
      "cell_type": "markdown",
      "metadata": {
        "id": "OMW3gMy3JsM2"
      },
      "source": [
        "Importing necessary python libraries"
      ]
    },
    {
      "cell_type": "code",
      "metadata": {
        "id": "bwaRxHGidrmr"
      },
      "source": [
        "import numpy as np\n",
        "import pandas as pd\n",
        "import matplotlib.pyplot as plt\n",
        "import seaborn as sns\n",
        "from sklearn.model_selection import train_test_split\n",
        "from sklearn.metrics import accuracy_score"
      ],
      "execution_count": null,
      "outputs": []
    },
    {
      "cell_type": "code",
      "metadata": {
        "id": "dxAytWzPezt8"
      },
      "source": [
        "train=pd.read_csv('4910797b-ee55-40a7-8668-10efd5c1b960.csv')"
      ],
      "execution_count": null,
      "outputs": []
    },
    {
      "cell_type": "code",
      "metadata": {
        "id": "8Hw0XdIiI2NK"
      },
      "source": [
        "test=pd.read_csv('702ddfc5-68cd-4d1d-a0de-f5f566f76d91.csv')"
      ],
      "execution_count": null,
      "outputs": []
    },
    {
      "cell_type": "code",
      "metadata": {
        "colab": {
          "base_uri": "https://localhost:8080/"
        },
        "id": "Zdx6MbJ8jFej",
        "outputId": "26171649-5fe2-4883-e011-272432acaaf0"
      },
      "source": [
        "train.shape"
      ],
      "execution_count": null,
      "outputs": [
        {
          "output_type": "execute_result",
          "data": {
            "text/plain": [
              "(59400, 40)"
            ]
          },
          "metadata": {},
          "execution_count": 282
        }
      ]
    },
    {
      "cell_type": "code",
      "metadata": {
        "id": "v5S0vAuZjnoH"
      },
      "source": [
        "labels=pd.read_csv('0bf8bc6e-30d0-4c50-956a-603fc693d966.csv')#Uploading the labels file"
      ],
      "execution_count": null,
      "outputs": []
    },
    {
      "cell_type": "code",
      "metadata": {
        "colab": {
          "base_uri": "https://localhost:8080/"
        },
        "id": "SIDwVz5ukb8w",
        "outputId": "eb300732-0dff-4abc-d03e-36d22fa6dc22"
      },
      "source": [
        "test.shape"
      ],
      "execution_count": null,
      "outputs": [
        {
          "output_type": "execute_result",
          "data": {
            "text/plain": [
              "(14850, 40)"
            ]
          },
          "metadata": {},
          "execution_count": 284
        }
      ]
    },
    {
      "cell_type": "code",
      "metadata": {
        "colab": {
          "base_uri": "https://localhost:8080/"
        },
        "id": "dOE5JoLYKBZF",
        "outputId": "0c74ae65-6b18-41fa-db7b-9c5b554a2a11"
      },
      "source": [
        "len(train.columns)==len(test.columns)"
      ],
      "execution_count": null,
      "outputs": [
        {
          "output_type": "execute_result",
          "data": {
            "text/plain": [
              "True"
            ]
          },
          "metadata": {},
          "execution_count": 285
        }
      ]
    },
    {
      "cell_type": "code",
      "metadata": {
        "id": "NmlLpxIVLNww"
      },
      "source": [
        "train['origin']='train'\n",
        "test['origin']='test'"
      ],
      "execution_count": null,
      "outputs": []
    },
    {
      "cell_type": "code",
      "metadata": {
        "colab": {
          "base_uri": "https://localhost:8080/"
        },
        "id": "qvsj7m2oKHWj",
        "outputId": "7b259990-931d-464d-bf43-d971c8fa301e"
      },
      "source": [
        "all_data = train.append(test)\n",
        "len(all_data) == (len(train)+len(test))"
      ],
      "execution_count": null,
      "outputs": [
        {
          "output_type": "execute_result",
          "data": {
            "text/plain": [
              "True"
            ]
          },
          "metadata": {},
          "execution_count": 287
        }
      ]
    },
    {
      "cell_type": "code",
      "metadata": {
        "colab": {
          "base_uri": "https://localhost:8080/",
          "height": 730
        },
        "id": "ZFWqPYdVKTQ9",
        "outputId": "122ee5ea-6239-42fd-a2a6-a241d45bb749"
      },
      "source": [
        "all_data.head(10)"
      ],
      "execution_count": null,
      "outputs": [
        {
          "output_type": "execute_result",
          "data": {
            "text/html": [
              "<div>\n",
              "<style scoped>\n",
              "    .dataframe tbody tr th:only-of-type {\n",
              "        vertical-align: middle;\n",
              "    }\n",
              "\n",
              "    .dataframe tbody tr th {\n",
              "        vertical-align: top;\n",
              "    }\n",
              "\n",
              "    .dataframe thead th {\n",
              "        text-align: right;\n",
              "    }\n",
              "</style>\n",
              "<table border=\"1\" class=\"dataframe\">\n",
              "  <thead>\n",
              "    <tr style=\"text-align: right;\">\n",
              "      <th></th>\n",
              "      <th>id</th>\n",
              "      <th>amount_tsh</th>\n",
              "      <th>date_recorded</th>\n",
              "      <th>funder</th>\n",
              "      <th>gps_height</th>\n",
              "      <th>installer</th>\n",
              "      <th>longitude</th>\n",
              "      <th>latitude</th>\n",
              "      <th>wpt_name</th>\n",
              "      <th>num_private</th>\n",
              "      <th>basin</th>\n",
              "      <th>subvillage</th>\n",
              "      <th>region</th>\n",
              "      <th>region_code</th>\n",
              "      <th>district_code</th>\n",
              "      <th>lga</th>\n",
              "      <th>ward</th>\n",
              "      <th>population</th>\n",
              "      <th>public_meeting</th>\n",
              "      <th>recorded_by</th>\n",
              "      <th>scheme_management</th>\n",
              "      <th>scheme_name</th>\n",
              "      <th>permit</th>\n",
              "      <th>construction_year</th>\n",
              "      <th>extraction_type</th>\n",
              "      <th>extraction_type_group</th>\n",
              "      <th>extraction_type_class</th>\n",
              "      <th>management</th>\n",
              "      <th>management_group</th>\n",
              "      <th>payment</th>\n",
              "      <th>payment_type</th>\n",
              "      <th>water_quality</th>\n",
              "      <th>quality_group</th>\n",
              "      <th>quantity</th>\n",
              "      <th>quantity_group</th>\n",
              "      <th>source</th>\n",
              "      <th>source_type</th>\n",
              "      <th>source_class</th>\n",
              "      <th>waterpoint_type</th>\n",
              "      <th>waterpoint_type_group</th>\n",
              "      <th>origin</th>\n",
              "    </tr>\n",
              "  </thead>\n",
              "  <tbody>\n",
              "    <tr>\n",
              "      <th>0</th>\n",
              "      <td>69572</td>\n",
              "      <td>6000.0</td>\n",
              "      <td>2011-03-14</td>\n",
              "      <td>Roman</td>\n",
              "      <td>1390</td>\n",
              "      <td>Roman</td>\n",
              "      <td>34.938093</td>\n",
              "      <td>-9.856322</td>\n",
              "      <td>none</td>\n",
              "      <td>0</td>\n",
              "      <td>Lake Nyasa</td>\n",
              "      <td>Mnyusi B</td>\n",
              "      <td>Iringa</td>\n",
              "      <td>11</td>\n",
              "      <td>5</td>\n",
              "      <td>Ludewa</td>\n",
              "      <td>Mundindi</td>\n",
              "      <td>109</td>\n",
              "      <td>True</td>\n",
              "      <td>GeoData Consultants Ltd</td>\n",
              "      <td>VWC</td>\n",
              "      <td>Roman</td>\n",
              "      <td>False</td>\n",
              "      <td>1999</td>\n",
              "      <td>gravity</td>\n",
              "      <td>gravity</td>\n",
              "      <td>gravity</td>\n",
              "      <td>vwc</td>\n",
              "      <td>user-group</td>\n",
              "      <td>pay annually</td>\n",
              "      <td>annually</td>\n",
              "      <td>soft</td>\n",
              "      <td>good</td>\n",
              "      <td>enough</td>\n",
              "      <td>enough</td>\n",
              "      <td>spring</td>\n",
              "      <td>spring</td>\n",
              "      <td>groundwater</td>\n",
              "      <td>communal standpipe</td>\n",
              "      <td>communal standpipe</td>\n",
              "      <td>train</td>\n",
              "    </tr>\n",
              "    <tr>\n",
              "      <th>1</th>\n",
              "      <td>8776</td>\n",
              "      <td>0.0</td>\n",
              "      <td>2013-03-06</td>\n",
              "      <td>Grumeti</td>\n",
              "      <td>1399</td>\n",
              "      <td>GRUMETI</td>\n",
              "      <td>34.698766</td>\n",
              "      <td>-2.147466</td>\n",
              "      <td>Zahanati</td>\n",
              "      <td>0</td>\n",
              "      <td>Lake Victoria</td>\n",
              "      <td>Nyamara</td>\n",
              "      <td>Mara</td>\n",
              "      <td>20</td>\n",
              "      <td>2</td>\n",
              "      <td>Serengeti</td>\n",
              "      <td>Natta</td>\n",
              "      <td>280</td>\n",
              "      <td>NaN</td>\n",
              "      <td>GeoData Consultants Ltd</td>\n",
              "      <td>Other</td>\n",
              "      <td>NaN</td>\n",
              "      <td>True</td>\n",
              "      <td>2010</td>\n",
              "      <td>gravity</td>\n",
              "      <td>gravity</td>\n",
              "      <td>gravity</td>\n",
              "      <td>wug</td>\n",
              "      <td>user-group</td>\n",
              "      <td>never pay</td>\n",
              "      <td>never pay</td>\n",
              "      <td>soft</td>\n",
              "      <td>good</td>\n",
              "      <td>insufficient</td>\n",
              "      <td>insufficient</td>\n",
              "      <td>rainwater harvesting</td>\n",
              "      <td>rainwater harvesting</td>\n",
              "      <td>surface</td>\n",
              "      <td>communal standpipe</td>\n",
              "      <td>communal standpipe</td>\n",
              "      <td>train</td>\n",
              "    </tr>\n",
              "    <tr>\n",
              "      <th>2</th>\n",
              "      <td>34310</td>\n",
              "      <td>25.0</td>\n",
              "      <td>2013-02-25</td>\n",
              "      <td>Lottery Club</td>\n",
              "      <td>686</td>\n",
              "      <td>World vision</td>\n",
              "      <td>37.460664</td>\n",
              "      <td>-3.821329</td>\n",
              "      <td>Kwa Mahundi</td>\n",
              "      <td>0</td>\n",
              "      <td>Pangani</td>\n",
              "      <td>Majengo</td>\n",
              "      <td>Manyara</td>\n",
              "      <td>21</td>\n",
              "      <td>4</td>\n",
              "      <td>Simanjiro</td>\n",
              "      <td>Ngorika</td>\n",
              "      <td>250</td>\n",
              "      <td>True</td>\n",
              "      <td>GeoData Consultants Ltd</td>\n",
              "      <td>VWC</td>\n",
              "      <td>Nyumba ya mungu pipe scheme</td>\n",
              "      <td>True</td>\n",
              "      <td>2009</td>\n",
              "      <td>gravity</td>\n",
              "      <td>gravity</td>\n",
              "      <td>gravity</td>\n",
              "      <td>vwc</td>\n",
              "      <td>user-group</td>\n",
              "      <td>pay per bucket</td>\n",
              "      <td>per bucket</td>\n",
              "      <td>soft</td>\n",
              "      <td>good</td>\n",
              "      <td>enough</td>\n",
              "      <td>enough</td>\n",
              "      <td>dam</td>\n",
              "      <td>dam</td>\n",
              "      <td>surface</td>\n",
              "      <td>communal standpipe multiple</td>\n",
              "      <td>communal standpipe</td>\n",
              "      <td>train</td>\n",
              "    </tr>\n",
              "    <tr>\n",
              "      <th>3</th>\n",
              "      <td>67743</td>\n",
              "      <td>0.0</td>\n",
              "      <td>2013-01-28</td>\n",
              "      <td>Unicef</td>\n",
              "      <td>263</td>\n",
              "      <td>UNICEF</td>\n",
              "      <td>38.486161</td>\n",
              "      <td>-11.155298</td>\n",
              "      <td>Zahanati Ya Nanyumbu</td>\n",
              "      <td>0</td>\n",
              "      <td>Ruvuma / Southern Coast</td>\n",
              "      <td>Mahakamani</td>\n",
              "      <td>Mtwara</td>\n",
              "      <td>90</td>\n",
              "      <td>63</td>\n",
              "      <td>Nanyumbu</td>\n",
              "      <td>Nanyumbu</td>\n",
              "      <td>58</td>\n",
              "      <td>True</td>\n",
              "      <td>GeoData Consultants Ltd</td>\n",
              "      <td>VWC</td>\n",
              "      <td>NaN</td>\n",
              "      <td>True</td>\n",
              "      <td>1986</td>\n",
              "      <td>submersible</td>\n",
              "      <td>submersible</td>\n",
              "      <td>submersible</td>\n",
              "      <td>vwc</td>\n",
              "      <td>user-group</td>\n",
              "      <td>never pay</td>\n",
              "      <td>never pay</td>\n",
              "      <td>soft</td>\n",
              "      <td>good</td>\n",
              "      <td>dry</td>\n",
              "      <td>dry</td>\n",
              "      <td>machine dbh</td>\n",
              "      <td>borehole</td>\n",
              "      <td>groundwater</td>\n",
              "      <td>communal standpipe multiple</td>\n",
              "      <td>communal standpipe</td>\n",
              "      <td>train</td>\n",
              "    </tr>\n",
              "    <tr>\n",
              "      <th>4</th>\n",
              "      <td>19728</td>\n",
              "      <td>0.0</td>\n",
              "      <td>2011-07-13</td>\n",
              "      <td>Action In A</td>\n",
              "      <td>0</td>\n",
              "      <td>Artisan</td>\n",
              "      <td>31.130847</td>\n",
              "      <td>-1.825359</td>\n",
              "      <td>Shuleni</td>\n",
              "      <td>0</td>\n",
              "      <td>Lake Victoria</td>\n",
              "      <td>Kyanyamisa</td>\n",
              "      <td>Kagera</td>\n",
              "      <td>18</td>\n",
              "      <td>1</td>\n",
              "      <td>Karagwe</td>\n",
              "      <td>Nyakasimbi</td>\n",
              "      <td>0</td>\n",
              "      <td>True</td>\n",
              "      <td>GeoData Consultants Ltd</td>\n",
              "      <td>NaN</td>\n",
              "      <td>NaN</td>\n",
              "      <td>True</td>\n",
              "      <td>0</td>\n",
              "      <td>gravity</td>\n",
              "      <td>gravity</td>\n",
              "      <td>gravity</td>\n",
              "      <td>other</td>\n",
              "      <td>other</td>\n",
              "      <td>never pay</td>\n",
              "      <td>never pay</td>\n",
              "      <td>soft</td>\n",
              "      <td>good</td>\n",
              "      <td>seasonal</td>\n",
              "      <td>seasonal</td>\n",
              "      <td>rainwater harvesting</td>\n",
              "      <td>rainwater harvesting</td>\n",
              "      <td>surface</td>\n",
              "      <td>communal standpipe</td>\n",
              "      <td>communal standpipe</td>\n",
              "      <td>train</td>\n",
              "    </tr>\n",
              "    <tr>\n",
              "      <th>5</th>\n",
              "      <td>9944</td>\n",
              "      <td>20.0</td>\n",
              "      <td>2011-03-13</td>\n",
              "      <td>Mkinga Distric Coun</td>\n",
              "      <td>0</td>\n",
              "      <td>DWE</td>\n",
              "      <td>39.172796</td>\n",
              "      <td>-4.765587</td>\n",
              "      <td>Tajiri</td>\n",
              "      <td>0</td>\n",
              "      <td>Pangani</td>\n",
              "      <td>Moa/Mwereme</td>\n",
              "      <td>Tanga</td>\n",
              "      <td>4</td>\n",
              "      <td>8</td>\n",
              "      <td>Mkinga</td>\n",
              "      <td>Moa</td>\n",
              "      <td>1</td>\n",
              "      <td>True</td>\n",
              "      <td>GeoData Consultants Ltd</td>\n",
              "      <td>VWC</td>\n",
              "      <td>Zingibali</td>\n",
              "      <td>True</td>\n",
              "      <td>2009</td>\n",
              "      <td>submersible</td>\n",
              "      <td>submersible</td>\n",
              "      <td>submersible</td>\n",
              "      <td>vwc</td>\n",
              "      <td>user-group</td>\n",
              "      <td>pay per bucket</td>\n",
              "      <td>per bucket</td>\n",
              "      <td>salty</td>\n",
              "      <td>salty</td>\n",
              "      <td>enough</td>\n",
              "      <td>enough</td>\n",
              "      <td>other</td>\n",
              "      <td>other</td>\n",
              "      <td>unknown</td>\n",
              "      <td>communal standpipe multiple</td>\n",
              "      <td>communal standpipe</td>\n",
              "      <td>train</td>\n",
              "    </tr>\n",
              "    <tr>\n",
              "      <th>6</th>\n",
              "      <td>19816</td>\n",
              "      <td>0.0</td>\n",
              "      <td>2012-10-01</td>\n",
              "      <td>Dwsp</td>\n",
              "      <td>0</td>\n",
              "      <td>DWSP</td>\n",
              "      <td>33.362410</td>\n",
              "      <td>-3.766365</td>\n",
              "      <td>Kwa Ngomho</td>\n",
              "      <td>0</td>\n",
              "      <td>Internal</td>\n",
              "      <td>Ishinabulandi</td>\n",
              "      <td>Shinyanga</td>\n",
              "      <td>17</td>\n",
              "      <td>3</td>\n",
              "      <td>Shinyanga Rural</td>\n",
              "      <td>Samuye</td>\n",
              "      <td>0</td>\n",
              "      <td>True</td>\n",
              "      <td>GeoData Consultants Ltd</td>\n",
              "      <td>VWC</td>\n",
              "      <td>NaN</td>\n",
              "      <td>True</td>\n",
              "      <td>0</td>\n",
              "      <td>swn 80</td>\n",
              "      <td>swn 80</td>\n",
              "      <td>handpump</td>\n",
              "      <td>vwc</td>\n",
              "      <td>user-group</td>\n",
              "      <td>never pay</td>\n",
              "      <td>never pay</td>\n",
              "      <td>soft</td>\n",
              "      <td>good</td>\n",
              "      <td>enough</td>\n",
              "      <td>enough</td>\n",
              "      <td>machine dbh</td>\n",
              "      <td>borehole</td>\n",
              "      <td>groundwater</td>\n",
              "      <td>hand pump</td>\n",
              "      <td>hand pump</td>\n",
              "      <td>train</td>\n",
              "    </tr>\n",
              "    <tr>\n",
              "      <th>7</th>\n",
              "      <td>54551</td>\n",
              "      <td>0.0</td>\n",
              "      <td>2012-10-09</td>\n",
              "      <td>Rwssp</td>\n",
              "      <td>0</td>\n",
              "      <td>DWE</td>\n",
              "      <td>32.620617</td>\n",
              "      <td>-4.226198</td>\n",
              "      <td>Tushirikiane</td>\n",
              "      <td>0</td>\n",
              "      <td>Lake Tanganyika</td>\n",
              "      <td>Nyawishi Center</td>\n",
              "      <td>Shinyanga</td>\n",
              "      <td>17</td>\n",
              "      <td>3</td>\n",
              "      <td>Kahama</td>\n",
              "      <td>Chambo</td>\n",
              "      <td>0</td>\n",
              "      <td>True</td>\n",
              "      <td>GeoData Consultants Ltd</td>\n",
              "      <td>NaN</td>\n",
              "      <td>NaN</td>\n",
              "      <td>True</td>\n",
              "      <td>0</td>\n",
              "      <td>nira/tanira</td>\n",
              "      <td>nira/tanira</td>\n",
              "      <td>handpump</td>\n",
              "      <td>wug</td>\n",
              "      <td>user-group</td>\n",
              "      <td>unknown</td>\n",
              "      <td>unknown</td>\n",
              "      <td>milky</td>\n",
              "      <td>milky</td>\n",
              "      <td>enough</td>\n",
              "      <td>enough</td>\n",
              "      <td>shallow well</td>\n",
              "      <td>shallow well</td>\n",
              "      <td>groundwater</td>\n",
              "      <td>hand pump</td>\n",
              "      <td>hand pump</td>\n",
              "      <td>train</td>\n",
              "    </tr>\n",
              "    <tr>\n",
              "      <th>8</th>\n",
              "      <td>53934</td>\n",
              "      <td>0.0</td>\n",
              "      <td>2012-11-03</td>\n",
              "      <td>Wateraid</td>\n",
              "      <td>0</td>\n",
              "      <td>Water Aid</td>\n",
              "      <td>32.711100</td>\n",
              "      <td>-5.146712</td>\n",
              "      <td>Kwa Ramadhan Musa</td>\n",
              "      <td>0</td>\n",
              "      <td>Lake Tanganyika</td>\n",
              "      <td>Imalauduki</td>\n",
              "      <td>Tabora</td>\n",
              "      <td>14</td>\n",
              "      <td>6</td>\n",
              "      <td>Tabora Urban</td>\n",
              "      <td>Itetemia</td>\n",
              "      <td>0</td>\n",
              "      <td>True</td>\n",
              "      <td>GeoData Consultants Ltd</td>\n",
              "      <td>VWC</td>\n",
              "      <td>NaN</td>\n",
              "      <td>True</td>\n",
              "      <td>0</td>\n",
              "      <td>india mark ii</td>\n",
              "      <td>india mark ii</td>\n",
              "      <td>handpump</td>\n",
              "      <td>vwc</td>\n",
              "      <td>user-group</td>\n",
              "      <td>never pay</td>\n",
              "      <td>never pay</td>\n",
              "      <td>salty</td>\n",
              "      <td>salty</td>\n",
              "      <td>seasonal</td>\n",
              "      <td>seasonal</td>\n",
              "      <td>machine dbh</td>\n",
              "      <td>borehole</td>\n",
              "      <td>groundwater</td>\n",
              "      <td>hand pump</td>\n",
              "      <td>hand pump</td>\n",
              "      <td>train</td>\n",
              "    </tr>\n",
              "    <tr>\n",
              "      <th>9</th>\n",
              "      <td>46144</td>\n",
              "      <td>0.0</td>\n",
              "      <td>2011-08-03</td>\n",
              "      <td>Isingiro Ho</td>\n",
              "      <td>0</td>\n",
              "      <td>Artisan</td>\n",
              "      <td>30.626991</td>\n",
              "      <td>-1.257051</td>\n",
              "      <td>Kwapeto</td>\n",
              "      <td>0</td>\n",
              "      <td>Lake Victoria</td>\n",
              "      <td>Mkonomre</td>\n",
              "      <td>Kagera</td>\n",
              "      <td>18</td>\n",
              "      <td>1</td>\n",
              "      <td>Karagwe</td>\n",
              "      <td>Kaisho</td>\n",
              "      <td>0</td>\n",
              "      <td>True</td>\n",
              "      <td>GeoData Consultants Ltd</td>\n",
              "      <td>NaN</td>\n",
              "      <td>NaN</td>\n",
              "      <td>True</td>\n",
              "      <td>0</td>\n",
              "      <td>nira/tanira</td>\n",
              "      <td>nira/tanira</td>\n",
              "      <td>handpump</td>\n",
              "      <td>vwc</td>\n",
              "      <td>user-group</td>\n",
              "      <td>never pay</td>\n",
              "      <td>never pay</td>\n",
              "      <td>soft</td>\n",
              "      <td>good</td>\n",
              "      <td>enough</td>\n",
              "      <td>enough</td>\n",
              "      <td>shallow well</td>\n",
              "      <td>shallow well</td>\n",
              "      <td>groundwater</td>\n",
              "      <td>hand pump</td>\n",
              "      <td>hand pump</td>\n",
              "      <td>train</td>\n",
              "    </tr>\n",
              "  </tbody>\n",
              "</table>\n",
              "</div>"
            ],
            "text/plain": [
              "      id  amount_tsh  ... waterpoint_type_group origin\n",
              "0  69572      6000.0  ...    communal standpipe  train\n",
              "1   8776         0.0  ...    communal standpipe  train\n",
              "2  34310        25.0  ...    communal standpipe  train\n",
              "3  67743         0.0  ...    communal standpipe  train\n",
              "4  19728         0.0  ...    communal standpipe  train\n",
              "5   9944        20.0  ...    communal standpipe  train\n",
              "6  19816         0.0  ...             hand pump  train\n",
              "7  54551         0.0  ...             hand pump  train\n",
              "8  53934         0.0  ...             hand pump  train\n",
              "9  46144         0.0  ...             hand pump  train\n",
              "\n",
              "[10 rows x 41 columns]"
            ]
          },
          "metadata": {},
          "execution_count": 288
        }
      ]
    },
    {
      "cell_type": "code",
      "metadata": {
        "id": "wP4L9aopnCTV"
      },
      "source": [
        "#function to compute missing values and plot them\n",
        "def missingdata(data):\n",
        "  total=data.isnull().sum().sort_values()\n",
        "  percent=(data.isnull().sum()/data.isnull().count()*100).sort_values()\n",
        "  frame=pd.concat([total,percent],axis=1,keys=['total','percent'])\n",
        "  frame=frame[frame['percent']>0]\n",
        "  f,ax =plt.subplots(figsize=(8,6))\n",
        "  plt.xticks(rotation='90')\n",
        "  fig=sns.barplot(frame.index,frame['percent'],color='g',alpha=0.8)\n",
        "  return frame"
      ],
      "execution_count": null,
      "outputs": []
    },
    {
      "cell_type": "code",
      "metadata": {
        "colab": {
          "base_uri": "https://localhost:8080/",
          "height": 782
        },
        "id": "SCuvOU89szZJ",
        "outputId": "6658cac3-765a-4289-8330-80c4ab799427"
      },
      "source": [
        "missingdata(all_data)"
      ],
      "execution_count": null,
      "outputs": [
        {
          "output_type": "stream",
          "name": "stderr",
          "text": [
            "/usr/local/lib/python3.7/dist-packages/seaborn/_decorators.py:43: FutureWarning: Pass the following variables as keyword args: x, y. From version 0.12, the only valid positional argument will be `data`, and passing other arguments without an explicit keyword will result in an error or misinterpretation.\n",
            "  FutureWarning\n"
          ]
        },
        {
          "output_type": "execute_result",
          "data": {
            "text/html": [
              "<div>\n",
              "<style scoped>\n",
              "    .dataframe tbody tr th:only-of-type {\n",
              "        vertical-align: middle;\n",
              "    }\n",
              "\n",
              "    .dataframe tbody tr th {\n",
              "        vertical-align: top;\n",
              "    }\n",
              "\n",
              "    .dataframe thead th {\n",
              "        text-align: right;\n",
              "    }\n",
              "</style>\n",
              "<table border=\"1\" class=\"dataframe\">\n",
              "  <thead>\n",
              "    <tr style=\"text-align: right;\">\n",
              "      <th></th>\n",
              "      <th>total</th>\n",
              "      <th>percent</th>\n",
              "    </tr>\n",
              "  </thead>\n",
              "  <tbody>\n",
              "    <tr>\n",
              "      <th>subvillage</th>\n",
              "      <td>470</td>\n",
              "      <td>0.632997</td>\n",
              "    </tr>\n",
              "    <tr>\n",
              "      <th>permit</th>\n",
              "      <td>3793</td>\n",
              "      <td>5.108418</td>\n",
              "    </tr>\n",
              "    <tr>\n",
              "      <th>public_meeting</th>\n",
              "      <td>4155</td>\n",
              "      <td>5.595960</td>\n",
              "    </tr>\n",
              "    <tr>\n",
              "      <th>funder</th>\n",
              "      <td>4504</td>\n",
              "      <td>6.065993</td>\n",
              "    </tr>\n",
              "    <tr>\n",
              "      <th>installer</th>\n",
              "      <td>4532</td>\n",
              "      <td>6.103704</td>\n",
              "    </tr>\n",
              "    <tr>\n",
              "      <th>scheme_management</th>\n",
              "      <td>4846</td>\n",
              "      <td>6.526599</td>\n",
              "    </tr>\n",
              "    <tr>\n",
              "      <th>scheme_name</th>\n",
              "      <td>35258</td>\n",
              "      <td>47.485522</td>\n",
              "    </tr>\n",
              "  </tbody>\n",
              "</table>\n",
              "</div>"
            ],
            "text/plain": [
              "                   total    percent\n",
              "subvillage           470   0.632997\n",
              "permit              3793   5.108418\n",
              "public_meeting      4155   5.595960\n",
              "funder              4504   6.065993\n",
              "installer           4532   6.103704\n",
              "scheme_management   4846   6.526599\n",
              "scheme_name        35258  47.485522"
            ]
          },
          "metadata": {},
          "execution_count": 290
        },
        {
          "output_type": "display_data",
          "data": {
            "image/png": "[encoded data removed]",
            "text/plain": [
              "<Figure size 576x432 with 1 Axes>"
            ]
          },
          "metadata": {
            "needs_background": "light"
          }
        }
      ]
    },
    {
      "cell_type": "code",
      "metadata": {
        "colab": {
          "base_uri": "https://localhost:8080/"
        },
        "id": "lKMiEazJNb5a",
        "outputId": "33753bb8-4f5d-40df-e342-10f966560ae6"
      },
      "source": [
        "labels.groupby(['status_group']).size()"
      ],
      "execution_count": null,
      "outputs": [
        {
          "output_type": "execute_result",
          "data": {
            "text/plain": [
              "status_group\n",
              "functional                 32259\n",
              "functional needs repair     4317\n",
              "non functional             22824\n",
              "dtype: int64"
            ]
          },
          "metadata": {},
          "execution_count": 291
        }
      ]
    },
    {
      "cell_type": "code",
      "metadata": {
        "colab": {
          "base_uri": "https://localhost:8080/",
          "height": 476
        },
        "id": "1f5gJwF3PIsS",
        "outputId": "ea582f12-ca78-476d-c08d-d78139bbf769"
      },
      "source": [
        "sns.factorplot('status_group',data=labels,kind='count',aspect=2)"
      ],
      "execution_count": null,
      "outputs": [
        {
          "output_type": "stream",
          "name": "stderr",
          "text": [
            "/usr/local/lib/python3.7/dist-packages/seaborn/categorical.py:3717: UserWarning: The `factorplot` function has been renamed to `catplot`. The original name will be removed in a future release. Please update your code. Note that the default `kind` in `factorplot` (`'point'`) has changed `'strip'` in `catplot`.\n",
            "  warnings.warn(msg)\n",
            "/usr/local/lib/python3.7/dist-packages/seaborn/_decorators.py:43: FutureWarning: Pass the following variable as a keyword arg: x. From version 0.12, the only valid positional argument will be `data`, and passing other arguments without an explicit keyword will result in an error or misinterpretation.\n",
            "  FutureWarning\n"
          ]
        },
        {
          "output_type": "execute_result",
          "data": {
            "text/plain": [
              "<seaborn.axisgrid.FacetGrid at 0x7f4a1d88f650>"
            ]
          },
          "metadata": {},
          "execution_count": 292
        },
        {
          "output_type": "display_data",
          "data": {
            "image/png": "[encoded data removed]",
            "text/plain": [
              "<Figure size 720x360 with 1 Axes>"
            ]
          },
          "metadata": {
            "needs_background": "light"
          }
        }
      ]
    },
    {
      "cell_type": "code",
      "metadata": {
        "colab": {
          "base_uri": "https://localhost:8080/"
        },
        "id": "3TaXftrkPoDx",
        "outputId": "2b7b70a0-9436-4ddc-edd1-b38701101283"
      },
      "source": [
        "categorical_data=all_data.select_dtypes(['object']).columns\n",
        "categorical_data"
      ],
      "execution_count": null,
      "outputs": [
        {
          "output_type": "execute_result",
          "data": {
            "text/plain": [
              "Index(['date_recorded', 'funder', 'installer', 'wpt_name', 'basin',\n",
              "       'subvillage', 'region', 'lga', 'ward', 'public_meeting', 'recorded_by',\n",
              "       'scheme_management', 'scheme_name', 'permit', 'extraction_type',\n",
              "       'extraction_type_group', 'extraction_type_class', 'management',\n",
              "       'management_group', 'payment', 'payment_type', 'water_quality',\n",
              "       'quality_group', 'quantity', 'quantity_group', 'source', 'source_type',\n",
              "       'source_class', 'waterpoint_type', 'waterpoint_type_group', 'origin'],\n",
              "      dtype='object')"
            ]
          },
          "metadata": {},
          "execution_count": 293
        }
      ]
    },
    {
      "cell_type": "code",
      "metadata": {
        "colab": {
          "base_uri": "https://localhost:8080/"
        },
        "id": "2zX4pPXRQGl9",
        "outputId": "54e7195a-1d20-4453-b3e1-13965121d852"
      },
      "source": [
        "numerical_data=all_data.select_dtypes(['float64','int64']).columns\n",
        "numerical_data"
      ],
      "execution_count": null,
      "outputs": [
        {
          "output_type": "execute_result",
          "data": {
            "text/plain": [
              "Index(['id', 'amount_tsh', 'gps_height', 'longitude', 'latitude',\n",
              "       'num_private', 'region_code', 'district_code', 'population',\n",
              "       'construction_year'],\n",
              "      dtype='object')"
            ]
          },
          "metadata": {},
          "execution_count": 294
        }
      ]
    },
    {
      "cell_type": "code",
      "metadata": {
        "colab": {
          "base_uri": "https://localhost:8080/"
        },
        "id": "1S9HxYRLQVgo",
        "outputId": "4abf048f-30e4-470b-9380-175a5bf02e4b"
      },
      "source": [
        "all_data.groupby(['subvillage'])['id'].count().sort_values(ascending=False)[:10]"
      ],
      "execution_count": null,
      "outputs": [
        {
          "output_type": "execute_result",
          "data": {
            "text/plain": [
              "subvillage\n",
              "Shuleni       646\n",
              "Majengo       631\n",
              "Madukani      629\n",
              "Kati          467\n",
              "Mtakuja       322\n",
              "Sokoni        294\n",
              "M             243\n",
              "Muungano      215\n",
              "Mbuyuni       210\n",
              "Songambele    194\n",
              "Name: id, dtype: int64"
            ]
          },
          "metadata": {},
          "execution_count": 295
        }
      ]
    },
    {
      "cell_type": "code",
      "metadata": {
        "id": "88dNyqvGQ12v",
        "colab": {
          "base_uri": "https://localhost:8080/"
        },
        "outputId": "63fc3bc4-910f-49ec-9946-d7f6c13b5b09"
      },
      "source": [
        "all_data.loc[all_data.subvillage.str.len()==1,'subvillage']='other'\n",
        "all_data.subvillage.fillna(value='other',inplace=True)\n",
        "all_data.subvillage.isnull().sum()"
      ],
      "execution_count": null,
      "outputs": [
        {
          "output_type": "execute_result",
          "data": {
            "text/plain": [
              "0"
            ]
          },
          "metadata": {},
          "execution_count": 296
        }
      ]
    },
    {
      "cell_type": "code",
      "metadata": {
        "id": "k4fhDx-PSDIg"
      },
      "source": [
        "all_data=all_data.drop('amount_tsh',axis=1)#to many 0 values to handle"
      ],
      "execution_count": null,
      "outputs": []
    },
    {
      "cell_type": "code",
      "metadata": {
        "colab": {
          "base_uri": "https://localhost:8080/"
        },
        "id": "G18mSie7SjeN",
        "outputId": "c590b0fd-7ae2-4b14-f5e4-d990a7bebd81"
      },
      "source": [
        "all_data.date_recorded[:10]"
      ],
      "execution_count": null,
      "outputs": [
        {
          "output_type": "execute_result",
          "data": {
            "text/plain": [
              "0    2011-03-14\n",
              "1    2013-03-06\n",
              "2    2013-02-25\n",
              "3    2013-01-28\n",
              "4    2011-07-13\n",
              "5    2011-03-13\n",
              "6    2012-10-01\n",
              "7    2012-10-09\n",
              "8    2012-11-03\n",
              "9    2011-08-03\n",
              "Name: date_recorded, dtype: object"
            ]
          },
          "metadata": {},
          "execution_count": 298
        }
      ]
    },
    {
      "cell_type": "code",
      "metadata": {
        "id": "xZZkEAJ3T1xe"
      },
      "source": [
        "all_data.loc[all_data.date_recorded=='other','date_recorded']='2011-03-01'\n",
        "all_data['year_recorded']=all_data.date_recorded.str.slice(0,4)\n",
        "all_data['month_recorded']=all_data.date_recorded.str.slice(5,7)\n",
        "all_data=all_data.drop('date_recorded',axis=1)"
      ],
      "execution_count": null,
      "outputs": []
    },
    {
      "cell_type": "code",
      "metadata": {
        "colab": {
          "base_uri": "https://localhost:8080/"
        },
        "id": "VzPFY8DFVKe5",
        "outputId": "b84f6ccc-ce1c-4afd-c9d0-da631f3d79d6"
      },
      "source": [
        "all_data.month_recorded.value_counts()"
      ],
      "execution_count": null,
      "outputs": [
        {
          "output_type": "execute_result",
          "data": {
            "text/plain": [
              "03    22423\n",
              "02    15481\n",
              "07     8664\n",
              "01     7903\n",
              "10     6908\n",
              "04     4976\n",
              "08     4181\n",
              "11     1683\n",
              "12      771\n",
              "06      464\n",
              "05      403\n",
              "09      393\n",
              "Name: month_recorded, dtype: int64"
            ]
          },
          "metadata": {},
          "execution_count": 300
        }
      ]
    },
    {
      "cell_type": "code",
      "metadata": {
        "colab": {
          "base_uri": "https://localhost:8080/",
          "height": 386
        },
        "id": "71Rfg1P_Ve_5",
        "outputId": "c31de7e3-2835-4543-a90d-e9a0d12a380b"
      },
      "source": [
        "all_data.year_recorded = all_data.year_recorded.astype('float64', errors='ignore')\n",
        "all_data.month_recorded = all_data.month_recorded.astype('float64', errors='ignore')\n",
        "sns.displot(all_data.year_recorded)"
      ],
      "execution_count": null,
      "outputs": [
        {
          "output_type": "execute_result",
          "data": {
            "text/plain": [
              "<seaborn.axisgrid.FacetGrid at 0x7f4a1e31fbd0>"
            ]
          },
          "metadata": {},
          "execution_count": 301
        },
        {
          "output_type": "display_data",
          "data": {
            "image/png": "[encoded data removed]",
            "text/plain": [
              "<Figure size 360x360 with 1 Axes>"
            ]
          },
          "metadata": {
            "needs_background": "light"
          }
        }
      ]
    },
    {
      "cell_type": "code",
      "metadata": {
        "colab": {
          "base_uri": "https://localhost:8080/"
        },
        "id": "3dt1nudNUhfZ",
        "outputId": "7b8e1053-4ccf-4504-db18-fcd59a3179a2"
      },
      "source": [
        "all_data.groupby(['year_recorded'])['id'].count()"
      ],
      "execution_count": null,
      "outputs": [
        {
          "output_type": "execute_result",
          "data": {
            "text/plain": [
              "year_recorded\n",
              "2001.0        1\n",
              "2002.0        1\n",
              "2004.0       41\n",
              "2011.0    35908\n",
              "2012.0     8089\n",
              "2013.0    30210\n",
              "Name: id, dtype: int64"
            ]
          },
          "metadata": {},
          "execution_count": 302
        }
      ]
    },
    {
      "cell_type": "code",
      "metadata": {
        "id": "MZP1j7P4VTtl"
      },
      "source": [
        "all_data.loc[all_data.year_recorded==2001.0,'year_recorded']=2011.0\n",
        "all_data.loc[all_data.year_recorded==2002.0,'year_recorded']=2012.0\n",
        "all_data.loc[all_data.year_recorded==2004.0,'year_recorded']=2014.0"
      ],
      "execution_count": null,
      "outputs": []
    },
    {
      "cell_type": "code",
      "metadata": {
        "colab": {
          "base_uri": "https://localhost:8080/"
        },
        "id": "b5tI-xf-WkPF",
        "outputId": "3c5b71bd-b9b6-472d-f41e-7f8bb0eabfd7"
      },
      "source": [
        "all_data.groupby(['year_recorded'])['id'].count()"
      ],
      "execution_count": null,
      "outputs": [
        {
          "output_type": "execute_result",
          "data": {
            "text/plain": [
              "year_recorded\n",
              "2011.0    35909\n",
              "2012.0     8090\n",
              "2013.0    30210\n",
              "2014.0       41\n",
              "Name: id, dtype: int64"
            ]
          },
          "metadata": {},
          "execution_count": 304
        }
      ]
    },
    {
      "cell_type": "code",
      "metadata": {
        "colab": {
          "base_uri": "https://localhost:8080/",
          "height": 352
        },
        "id": "teaLzUWeWqa0",
        "outputId": "1ecf66ac-a2dc-4a17-ef0e-7f68c041e08e"
      },
      "source": [
        "sns.distplot(all_data.year_recorded)"
      ],
      "execution_count": null,
      "outputs": [
        {
          "output_type": "stream",
          "name": "stderr",
          "text": [
            "/usr/local/lib/python3.7/dist-packages/seaborn/distributions.py:2619: FutureWarning: `distplot` is a deprecated function and will be removed in a future version. Please adapt your code to use either `displot` (a figure-level function with similar flexibility) or `histplot` (an axes-level function for histograms).\n",
            "  warnings.warn(msg, FutureWarning)\n"
          ]
        },
        {
          "output_type": "execute_result",
          "data": {
            "text/plain": [
              "<matplotlib.axes._subplots.AxesSubplot at 0x7f4a1d705490>"
            ]
          },
          "metadata": {},
          "execution_count": 305
        },
        {
          "output_type": "display_data",
          "data": {
            "image/png": "[encoded data removed]",
            "text/plain": [
              "<Figure size 432x288 with 1 Axes>"
            ]
          },
          "metadata": {
            "needs_background": "light"
          }
        }
      ]
    },
    {
      "cell_type": "code",
      "metadata": {
        "id": "FDq80MvdYwqV",
        "colab": {
          "base_uri": "https://localhost:8080/"
        },
        "outputId": "2b896e47-9319-4820-d9da-ac47cca5488c"
      },
      "source": [
        "all_data.groupby(['funder']).size().sort_values(ascending=False)"
      ],
      "execution_count": null,
      "outputs": [
        {
          "output_type": "execute_result",
          "data": {
            "text/plain": [
              "funder\n",
              "Government Of Tanzania    11299\n",
              "Danida                     3907\n",
              "Hesawa                     2782\n",
              "Rwssp                      1703\n",
              "World Bank                 1701\n",
              "                          ...  \n",
              "Mhuzu                         1\n",
              "Miab                          1\n",
              "Migration                     1\n",
              "Mikumi G                      1\n",
              "Zingibali Secondary           1\n",
              "Length: 2140, dtype: int64"
            ]
          },
          "metadata": {},
          "execution_count": 306
        }
      ]
    },
    {
      "cell_type": "code",
      "metadata": {
        "id": "Oxtbag7rZYnW"
      },
      "source": [
        "all_data.funder.fillna('other',inplace=True)\n",
        "all_data.loc[all_data.funder.str.len()==1,'funder']='other'"
      ],
      "execution_count": null,
      "outputs": []
    },
    {
      "cell_type": "code",
      "metadata": {
        "colab": {
          "base_uri": "https://localhost:8080/"
        },
        "id": "z_CpqiVZaNlq",
        "outputId": "2a2a9bab-4ebe-4e1d-ecf2-e5ba1e4c19bf"
      },
      "source": [
        "all_data.groupby(['funder']).size().sort_values(ascending=False)[:10]"
      ],
      "execution_count": null,
      "outputs": [
        {
          "output_type": "execute_result",
          "data": {
            "text/plain": [
              "funder\n",
              "Government Of Tanzania    11299\n",
              "other                      5684\n",
              "Danida                     3907\n",
              "Hesawa                     2782\n",
              "Rwssp                      1703\n",
              "World Bank                 1701\n",
              "Kkkt                       1623\n",
              "World Vision               1562\n",
              "Unicef                     1324\n",
              "Tasaf                      1136\n",
              "dtype: int64"
            ]
          },
          "metadata": {},
          "execution_count": 308
        }
      ]
    },
    {
      "cell_type": "code",
      "metadata": {
        "colab": {
          "base_uri": "https://localhost:8080/"
        },
        "id": "ovndVpX0bA8k",
        "outputId": "3afd8e26-22bb-4388-c425-93b133b1ae57"
      },
      "source": [
        "all_data.loc[((all_data.longitude == 0)|(all_data.longitude=='other')),'longitude'] = np.NaN\n",
        "all_data.longitude.isnull().sum()"
      ],
      "execution_count": null,
      "outputs": [
        {
          "output_type": "execute_result",
          "data": {
            "text/plain": [
              "2269"
            ]
          },
          "metadata": {},
          "execution_count": 309
        }
      ]
    },
    {
      "cell_type": "code",
      "metadata": {
        "colab": {
          "base_uri": "https://localhost:8080/"
        },
        "id": "aM1MrmW7bzFI",
        "outputId": "148e1e91-649a-4b0f-9d0f-e1269a042160"
      },
      "source": [
        "all_data.longitude.value_counts()"
      ],
      "execution_count": null,
      "outputs": [
        {
          "output_type": "execute_result",
          "data": {
            "text/plain": [
              "39.119409    2\n",
              "39.090577    2\n",
              "39.088437    2\n",
              "39.080573    2\n",
              "39.095684    2\n",
              "            ..\n",
              "34.258922    1\n",
              "36.922075    1\n",
              "40.106777    1\n",
              "36.882744    1\n",
              "35.005922    1\n",
              "Name: longitude, Length: 71869, dtype: int64"
            ]
          },
          "metadata": {},
          "execution_count": 310
        }
      ]
    },
    {
      "cell_type": "code",
      "metadata": {
        "colab": {
          "base_uri": "https://localhost:8080/",
          "height": 386
        },
        "id": "CnQvSiBvaUsE",
        "outputId": "dc5dc66e-ed73-487d-beb4-df9ee5268d24"
      },
      "source": [
        "sns.displot(all_data.longitude)"
      ],
      "execution_count": null,
      "outputs": [
        {
          "output_type": "execute_result",
          "data": {
            "text/plain": [
              "<seaborn.axisgrid.FacetGrid at 0x7f4a1d6647d0>"
            ]
          },
          "metadata": {},
          "execution_count": 311
        },
        {
          "output_type": "display_data",
          "data": {
            "image/png": "[encoded data removed]",
            "text/plain": [
              "<Figure size 360x360 with 1 Axes>"
            ]
          },
          "metadata": {
            "needs_background": "light"
          }
        }
      ]
    },
    {
      "cell_type": "code",
      "metadata": {
        "id": "1sU00RERxgWr"
      },
      "source": [
        "all_data.longitude = all_data.longitude.astype('float64', errors='ignore')"
      ],
      "execution_count": null,
      "outputs": []
    },
    {
      "cell_type": "code",
      "metadata": {
        "colab": {
          "base_uri": "https://localhost:8080/"
        },
        "id": "TOcg1o5qavbF",
        "outputId": "4eaa677d-5548-4f9b-989a-12f0280abee1"
      },
      "source": [
        "all_data['longitude']=all_data['longitude'].fillna(all_data.groupby(['subvillage'])['longitude'].transform('mean'))\n",
        "all_data.longitude.isnull().sum()"
      ],
      "execution_count": null,
      "outputs": [
        {
          "output_type": "execute_result",
          "data": {
            "text/plain": [
              "1410"
            ]
          },
          "metadata": {},
          "execution_count": 313
        }
      ]
    },
    {
      "cell_type": "code",
      "metadata": {
        "colab": {
          "base_uri": "https://localhost:8080/"
        },
        "id": "RFdJBHFhsAM0",
        "outputId": "18f07b30-98e1-4f30-eede-635bbe10bd91"
      },
      "source": [
        "all_data.longitude.fillna(all_data.groupby(['ward'])['longitude'].transform('mean'), inplace=True)\n",
        "all_data.longitude.isnull().sum()"
      ],
      "execution_count": null,
      "outputs": [
        {
          "output_type": "execute_result",
          "data": {
            "text/plain": [
              "37"
            ]
          },
          "metadata": {},
          "execution_count": 314
        }
      ]
    },
    {
      "cell_type": "code",
      "metadata": {
        "colab": {
          "base_uri": "https://localhost:8080/"
        },
        "id": "sopXE-US0Y55",
        "outputId": "4984f3ea-7117-42aa-e775-dd26d1b2b81d"
      },
      "source": [
        "all_data.longitude.fillna(all_data.groupby(['lga'])['longitude'].transform('mean'), inplace=True)\n",
        "all_data.longitude.isnull().sum()"
      ],
      "execution_count": null,
      "outputs": [
        {
          "output_type": "execute_result",
          "data": {
            "text/plain": [
              "0"
            ]
          },
          "metadata": {},
          "execution_count": 315
        }
      ]
    },
    {
      "cell_type": "code",
      "metadata": {
        "id": "Fdl7v5Ui16A9"
      },
      "source": [
        "all_data.latitude = all_data.latitude.astype('float64', errors='ignore')"
      ],
      "execution_count": null,
      "outputs": []
    },
    {
      "cell_type": "code",
      "metadata": {
        "colab": {
          "base_uri": "https://localhost:8080/",
          "height": 351
        },
        "id": "4I4ylf0d-x6d",
        "outputId": "de55a985-c1d5-4fa8-ac94-46ff12911878"
      },
      "source": [
        "sns.distplot(all_data.latitude)"
      ],
      "execution_count": null,
      "outputs": [
        {
          "output_type": "stream",
          "name": "stderr",
          "text": [
            "/usr/local/lib/python3.7/dist-packages/seaborn/distributions.py:2619: FutureWarning: `distplot` is a deprecated function and will be removed in a future version. Please adapt your code to use either `displot` (a figure-level function with similar flexibility) or `histplot` (an axes-level function for histograms).\n",
            "  warnings.warn(msg, FutureWarning)\n"
          ]
        },
        {
          "output_type": "execute_result",
          "data": {
            "text/plain": [
              "<matplotlib.axes._subplots.AxesSubplot at 0x7f4a1d5a9610>"
            ]
          },
          "metadata": {},
          "execution_count": 317
        },
        {
          "output_type": "display_data",
          "data": {
            "image/png": "[encoded data removed]",
            "text/plain": [
              "<Figure size 432x288 with 1 Axes>"
            ]
          },
          "metadata": {
            "needs_background": "light"
          }
        }
      ]
    },
    {
      "cell_type": "code",
      "metadata": {
        "id": "uCr0YT4iC7gs"
      },
      "source": [
        "all_data.latitude = all_data.latitude.round(2)"
      ],
      "execution_count": null,
      "outputs": []
    },
    {
      "cell_type": "code",
      "metadata": {
        "colab": {
          "base_uri": "https://localhost:8080/"
        },
        "id": "Zx1rJtPz8kvR",
        "outputId": "566a6edb-c743-4406-b00d-bf207422fe59"
      },
      "source": [
        "all_data.loc[all_data.latitude == 0, 'latitude'] = np.nan\n",
        "all_data.latitude.isnull().sum()"
      ],
      "execution_count": null,
      "outputs": [
        {
          "output_type": "execute_result",
          "data": {
            "text/plain": [
              "2269"
            ]
          },
          "metadata": {},
          "execution_count": 319
        }
      ]
    },
    {
      "cell_type": "code",
      "metadata": {
        "colab": {
          "base_uri": "https://localhost:8080/"
        },
        "id": "qEPwVVfW86tj",
        "outputId": "ae1bd8c4-f64f-41da-8304-b015f5624a88"
      },
      "source": [
        "all_data.latitude.fillna(all_data.groupby(['subvillage'])['latitude'].transform('mean'), inplace=True)\n",
        "all_data.latitude.isnull().sum()"
      ],
      "execution_count": null,
      "outputs": [
        {
          "output_type": "execute_result",
          "data": {
            "text/plain": [
              "1410"
            ]
          },
          "metadata": {},
          "execution_count": 320
        }
      ]
    },
    {
      "cell_type": "code",
      "metadata": {
        "colab": {
          "base_uri": "https://localhost:8080/"
        },
        "id": "hYBwhqYZC0dd",
        "outputId": "f90d00e1-e4e4-4cde-f5ad-2fe80276110b"
      },
      "source": [
        "all_data.latitude.fillna(all_data.groupby(['ward'])['latitude'].transform('mean'), inplace=True)\n",
        "all_data.latitude.isnull().sum()"
      ],
      "execution_count": null,
      "outputs": [
        {
          "output_type": "execute_result",
          "data": {
            "text/plain": [
              "37"
            ]
          },
          "metadata": {},
          "execution_count": 321
        }
      ]
    },
    {
      "cell_type": "code",
      "metadata": {
        "colab": {
          "base_uri": "https://localhost:8080/"
        },
        "id": "LltcXcXkDFrQ",
        "outputId": "b0b5ef68-4cb8-4c5a-dae1-f215fa61f108"
      },
      "source": [
        "all_data.latitude.fillna(all_data.groupby(['lga'])['latitude'].transform('mean'), inplace=True)\n",
        "all_data.latitude.isnull().sum()"
      ],
      "execution_count": null,
      "outputs": [
        {
          "output_type": "execute_result",
          "data": {
            "text/plain": [
              "0"
            ]
          },
          "metadata": {},
          "execution_count": 322
        }
      ]
    },
    {
      "cell_type": "code",
      "metadata": {
        "colab": {
          "base_uri": "https://localhost:8080/",
          "height": 351
        },
        "id": "xH2QP4H5DIZ7",
        "outputId": "2d96f00b-32be-4296-9e4f-8fa0ed822922"
      },
      "source": [
        "sns.distplot(all_data.latitude)"
      ],
      "execution_count": null,
      "outputs": [
        {
          "output_type": "stream",
          "name": "stderr",
          "text": [
            "/usr/local/lib/python3.7/dist-packages/seaborn/distributions.py:2619: FutureWarning: `distplot` is a deprecated function and will be removed in a future version. Please adapt your code to use either `displot` (a figure-level function with similar flexibility) or `histplot` (an axes-level function for histograms).\n",
            "  warnings.warn(msg, FutureWarning)\n"
          ]
        },
        {
          "output_type": "execute_result",
          "data": {
            "text/plain": [
              "<matplotlib.axes._subplots.AxesSubplot at 0x7f4a1d4abc90>"
            ]
          },
          "metadata": {},
          "execution_count": 323
        },
        {
          "output_type": "display_data",
          "data": {
            "image/png": "[encoded data removed]",
            "text/plain": [
              "<Figure size 432x288 with 1 Axes>"
            ]
          },
          "metadata": {
            "needs_background": "light"
          }
        }
      ]
    },
    {
      "cell_type": "code",
      "metadata": {
        "colab": {
          "base_uri": "https://localhost:8080/",
          "height": 352
        },
        "id": "rvbhlbuODOlF",
        "outputId": "f431ebf7-3588-4667-c505-7a2c4bd2e12d"
      },
      "source": [
        "sns.distplot(all_data.gps_height)"
      ],
      "execution_count": null,
      "outputs": [
        {
          "output_type": "stream",
          "name": "stderr",
          "text": [
            "/usr/local/lib/python3.7/dist-packages/seaborn/distributions.py:2619: FutureWarning: `distplot` is a deprecated function and will be removed in a future version. Please adapt your code to use either `displot` (a figure-level function with similar flexibility) or `histplot` (an axes-level function for histograms).\n",
            "  warnings.warn(msg, FutureWarning)\n"
          ]
        },
        {
          "output_type": "execute_result",
          "data": {
            "text/plain": [
              "<matplotlib.axes._subplots.AxesSubplot at 0x7f4a1d356490>"
            ]
          },
          "metadata": {},
          "execution_count": 324
        },
        {
          "output_type": "display_data",
          "data": {
            "image/png": "[encoded data removed]",
            "text/plain": [
              "<Figure size 432x288 with 1 Axes>"
            ]
          },
          "metadata": {
            "needs_background": "light"
          }
        }
      ]
    },
    {
      "cell_type": "code",
      "metadata": {
        "colab": {
          "base_uri": "https://localhost:8080/"
        },
        "id": "JatYRKrUDUHs",
        "outputId": "fdafab57-f227-4810-b579-d4bf54832c6c"
      },
      "source": [
        "all_data.loc[all_data.gps_height == 0, 'gps_height'] = np.nan\n",
        "all_data.gps_height.isnull().sum()"
      ],
      "execution_count": null,
      "outputs": [
        {
          "output_type": "execute_result",
          "data": {
            "text/plain": [
              "25649"
            ]
          },
          "metadata": {},
          "execution_count": 325
        }
      ]
    },
    {
      "cell_type": "code",
      "metadata": {
        "colab": {
          "base_uri": "https://localhost:8080/"
        },
        "id": "hkgyvjUMDZwX",
        "outputId": "1d864518-033e-4e1e-d929-62d010d0a3f2"
      },
      "source": [
        "all_data.gps_height.fillna(all_data.groupby(['subvillage'])['gps_height'].transform('mean'), inplace=True)\n",
        "all_data.gps_height.isnull().sum()"
      ],
      "execution_count": null,
      "outputs": [
        {
          "output_type": "execute_result",
          "data": {
            "text/plain": [
              "19108"
            ]
          },
          "metadata": {},
          "execution_count": 326
        }
      ]
    },
    {
      "cell_type": "code",
      "metadata": {
        "colab": {
          "base_uri": "https://localhost:8080/"
        },
        "id": "wzPH5pn5Dd8r",
        "outputId": "bede1492-a8ea-4ec2-ea0a-5f1ec7a389c9"
      },
      "source": [
        "all_data.gps_height.fillna(all_data.groupby(['ward'])['gps_height'].transform('mean'), inplace=True)\n",
        "all_data.gps_height.isnull().sum()"
      ],
      "execution_count": null,
      "outputs": [
        {
          "output_type": "execute_result",
          "data": {
            "text/plain": [
              "2222"
            ]
          },
          "metadata": {},
          "execution_count": 327
        }
      ]
    },
    {
      "cell_type": "code",
      "metadata": {
        "colab": {
          "base_uri": "https://localhost:8080/"
        },
        "id": "raJbsXnVD8Kh",
        "outputId": "60b29f79-f4e4-449c-a083-4ee4b62b75d5"
      },
      "source": [
        "all_data.gps_height.fillna(all_data.groupby(['lga'])['gps_height'].transform('mean'), inplace=True)\n",
        "all_data.gps_height.isnull().sum()"
      ],
      "execution_count": null,
      "outputs": [
        {
          "output_type": "execute_result",
          "data": {
            "text/plain": [
              "114"
            ]
          },
          "metadata": {},
          "execution_count": 328
        }
      ]
    },
    {
      "cell_type": "code",
      "metadata": {
        "colab": {
          "base_uri": "https://localhost:8080/"
        },
        "id": "Wo6-ELMAD_n7",
        "outputId": "4a8d9790-4a96-4b65-f6d9-18775a99f007"
      },
      "source": [
        "all_data.gps_height.fillna(all_data.groupby(['region_code'])['gps_height'].transform('mean'), inplace=True)\n",
        "all_data.gps_height.isnull().sum()"
      ],
      "execution_count": null,
      "outputs": [
        {
          "output_type": "execute_result",
          "data": {
            "text/plain": [
              "0"
            ]
          },
          "metadata": {},
          "execution_count": 329
        }
      ]
    },
    {
      "cell_type": "code",
      "metadata": {
        "colab": {
          "base_uri": "https://localhost:8080/",
          "height": 352
        },
        "id": "LXk24V5IEDSJ",
        "outputId": "f9b1e7c4-d9c2-46ad-ffe2-573e4a3b6bc8"
      },
      "source": [
        "sns.distplot(all_data.gps_height)"
      ],
      "execution_count": null,
      "outputs": [
        {
          "output_type": "stream",
          "name": "stderr",
          "text": [
            "/usr/local/lib/python3.7/dist-packages/seaborn/distributions.py:2619: FutureWarning: `distplot` is a deprecated function and will be removed in a future version. Please adapt your code to use either `displot` (a figure-level function with similar flexibility) or `histplot` (an axes-level function for histograms).\n",
            "  warnings.warn(msg, FutureWarning)\n"
          ]
        },
        {
          "output_type": "execute_result",
          "data": {
            "text/plain": [
              "<matplotlib.axes._subplots.AxesSubplot at 0x7f4a1f0fd990>"
            ]
          },
          "metadata": {},
          "execution_count": 330
        },
        {
          "output_type": "display_data",
          "data": {
            "image/png": "[encoded data removed]",
            "text/plain": [
              "<Figure size 432x288 with 1 Axes>"
            ]
          },
          "metadata": {
            "needs_background": "light"
          }
        }
      ]
    },
    {
      "cell_type": "code",
      "metadata": {
        "colab": {
          "base_uri": "https://localhost:8080/"
        },
        "id": "yHEb_JkREnwh",
        "outputId": "b888780e-3d18-43b8-fe99-4905655f1d6f"
      },
      "source": [
        "all_data.groupby(['installer'])['id'].count().sort_values(ascending=False)[:10]"
      ],
      "execution_count": null,
      "outputs": [
        {
          "output_type": "execute_result",
          "data": {
            "text/plain": [
              "installer\n",
              "DWE           21751\n",
              "Government     2282\n",
              "RWE            1498\n",
              "Commu          1347\n",
              "DANIDA         1305\n",
              "KKKT           1120\n",
              "Hesawa         1070\n",
              "0               980\n",
              "TCRS            887\n",
              "CES             765\n",
              "Name: id, dtype: int64"
            ]
          },
          "metadata": {},
          "execution_count": 331
        }
      ]
    },
    {
      "cell_type": "code",
      "metadata": {
        "colab": {
          "base_uri": "https://localhost:8080/"
        },
        "id": "yCRkNOvXFUXD",
        "outputId": "559d4b17-d905-4f46-93b4-a9e5cfe0676f"
      },
      "source": [
        "all_data.installer.fillna('other', inplace=True)\n",
        "all_data.loc[all_data.installer.str.len() == 1, 'installer'] = 'other'\n",
        "all_data.installer.isnull().sum()"
      ],
      "execution_count": null,
      "outputs": [
        {
          "output_type": "execute_result",
          "data": {
            "text/plain": [
              "0"
            ]
          },
          "metadata": {},
          "execution_count": 332
        }
      ]
    },
    {
      "cell_type": "code",
      "metadata": {
        "colab": {
          "base_uri": "https://localhost:8080/"
        },
        "id": "c2667Z3tFc5f",
        "outputId": "ede93717-f08d-4b83-e672-6b95ca78b820"
      },
      "source": [
        "all_data.groupby(['wpt_name']).size().sort_values(ascending=False)[1:10]"
      ],
      "execution_count": null,
      "outputs": [
        {
          "output_type": "execute_result",
          "data": {
            "text/plain": [
              "wpt_name\n",
              "Shuleni            2183\n",
              "Zahanati           1034\n",
              "Msikitini           647\n",
              "Kanisani            390\n",
              "Sokoni              328\n",
              "Bombani             323\n",
              "Ofisini             321\n",
              "School              260\n",
              "Shule Ya Msingi     247\n",
              "dtype: int64"
            ]
          },
          "metadata": {},
          "execution_count": 333
        }
      ]
    },
    {
      "cell_type": "code",
      "metadata": {
        "id": "WpdBDbZDFhEJ"
      },
      "source": [
        "all_data = all_data.drop('wpt_name', axis=1)"
      ],
      "execution_count": null,
      "outputs": []
    },
    {
      "cell_type": "code",
      "metadata": {
        "id": "d3Q4XbH9FsDE"
      },
      "source": [
        "all_data = all_data.drop('num_private', axis=1)"
      ],
      "execution_count": null,
      "outputs": []
    },
    {
      "cell_type": "code",
      "metadata": {
        "colab": {
          "base_uri": "https://localhost:8080/"
        },
        "id": "_Tt2vuK9F2cN",
        "outputId": "ba799df5-61ea-4260-dbb3-c32ec4ab2f44"
      },
      "source": [
        "all_data.groupby(['basin']).size()"
      ],
      "execution_count": null,
      "outputs": [
        {
          "output_type": "execute_result",
          "data": {
            "text/plain": [
              "basin\n",
              "Internal                    9642\n",
              "Lake Nyasa                  6332\n",
              "Lake Rukwa                  3059\n",
              "Lake Tanganyika             8052\n",
              "Lake Victoria              12871\n",
              "Pangani                    11143\n",
              "Rufiji                      9987\n",
              "Ruvuma / Southern Coast     5587\n",
              "Wami / Ruvu                 7577\n",
              "dtype: int64"
            ]
          },
          "metadata": {},
          "execution_count": 336
        }
      ]
    },
    {
      "cell_type": "code",
      "metadata": {
        "colab": {
          "base_uri": "https://localhost:8080/"
        },
        "id": "2I47CGirF9MU",
        "outputId": "0e9c5ebf-486f-4daa-ab98-4bfddb34042f"
      },
      "source": [
        "all_data.groupby(['region_code']).size().sort_values(ascending=False)[:10]"
      ],
      "execution_count": null,
      "outputs": [
        {
          "output_type": "execute_result",
          "data": {
            "text/plain": [
              "region_code\n",
              "11    6608\n",
              "17    6334\n",
              "12    5759\n",
              "3     5494\n",
              "5     5079\n",
              "18    4183\n",
              "19    3824\n",
              "2     3709\n",
              "16    3533\n",
              "10    3306\n",
              "dtype: int64"
            ]
          },
          "metadata": {},
          "execution_count": 337
        }
      ]
    },
    {
      "cell_type": "code",
      "metadata": {
        "id": "apOFdmUqGGt0"
      },
      "source": [
        "all_data = all_data.drop('region', axis=1)"
      ],
      "execution_count": null,
      "outputs": []
    },
    {
      "cell_type": "code",
      "metadata": {
        "id": "rw4s4Q92GLIu"
      },
      "source": [
        "all_data = all_data.drop('district_code', axis=1)"
      ],
      "execution_count": null,
      "outputs": []
    },
    {
      "cell_type": "code",
      "metadata": {
        "colab": {
          "base_uri": "https://localhost:8080/"
        },
        "id": "0GPrbUo_GTM3",
        "outputId": "47890858-72ff-4d38-82e4-a14867b83993"
      },
      "source": [
        "all_data.groupby(['lga']).size().sort_values(ascending=False)[:10]"
      ],
      "execution_count": null,
      "outputs": [
        {
          "output_type": "execute_result",
          "data": {
            "text/plain": [
              "lga\n",
              "Njombe          3128\n",
              "Moshi Rural     1566\n",
              "Arusha Rural    1521\n",
              "Bariadi         1485\n",
              "Rungwe          1381\n",
              "Kilosa          1368\n",
              "Kasulu          1322\n",
              "Mbozi           1286\n",
              "Bagamoyo        1263\n",
              "Meru            1244\n",
              "dtype: int64"
            ]
          },
          "metadata": {},
          "execution_count": 340
        }
      ]
    },
    {
      "cell_type": "code",
      "metadata": {
        "colab": {
          "base_uri": "https://localhost:8080/",
          "height": 351
        },
        "id": "aU3VUxt5wYQ1",
        "outputId": "d37458d1-12fe-4ae1-b778-49f145853e8e"
      },
      "source": [
        "sns.distplot(all_data.population)"
      ],
      "execution_count": null,
      "outputs": [
        {
          "output_type": "stream",
          "name": "stderr",
          "text": [
            "/usr/local/lib/python3.7/dist-packages/seaborn/distributions.py:2619: FutureWarning: `distplot` is a deprecated function and will be removed in a future version. Please adapt your code to use either `displot` (a figure-level function with similar flexibility) or `histplot` (an axes-level function for histograms).\n",
            "  warnings.warn(msg, FutureWarning)\n"
          ]
        },
        {
          "output_type": "execute_result",
          "data": {
            "text/plain": [
              "<matplotlib.axes._subplots.AxesSubplot at 0x7f4a1d3649d0>"
            ]
          },
          "metadata": {},
          "execution_count": 341
        },
        {
          "output_type": "display_data",
          "data": {
            "image/png": "[encoded data removed]",
            "text/plain": [
              "<Figure size 432x288 with 1 Axes>"
            ]
          },
          "metadata": {
            "needs_background": "light"
          }
        }
      ]
    },
    {
      "cell_type": "code",
      "metadata": {
        "colab": {
          "base_uri": "https://localhost:8080/"
        },
        "id": "Je5d3rgvx7eB",
        "outputId": "ea8b822b-ed6f-4bb8-d0e8-4ede2c90e62c"
      },
      "source": [
        "all_data.groupby(['population']).size().sort_values(ascending=False)[:10]"
      ],
      "execution_count": null,
      "outputs": [
        {
          "output_type": "execute_result",
          "data": {
            "text/plain": [
              "population\n",
              "0      26834\n",
              "1       8782\n",
              "200     2370\n",
              "150     2328\n",
              "250     2087\n",
              "300     1842\n",
              "50      1437\n",
              "100     1419\n",
              "500     1274\n",
              "350     1252\n",
              "dtype: int64"
            ]
          },
          "metadata": {},
          "execution_count": 342
        }
      ]
    },
    {
      "cell_type": "code",
      "metadata": {
        "colab": {
          "base_uri": "https://localhost:8080/"
        },
        "id": "JBOR5QZlyBq6",
        "outputId": "a0af468e-dee2-46aa-94f0-4088137b7a7b"
      },
      "source": [
        "all_data.loc[all_data.population == 0, 'population'] = np.nan\n",
        "all_data.population.isnull().sum()"
      ],
      "execution_count": null,
      "outputs": [
        {
          "output_type": "execute_result",
          "data": {
            "text/plain": [
              "26834"
            ]
          },
          "metadata": {},
          "execution_count": 343
        }
      ]
    },
    {
      "cell_type": "code",
      "metadata": {
        "colab": {
          "base_uri": "https://localhost:8080/"
        },
        "id": "c3vrA95DyHJG",
        "outputId": "f4d6840e-d26f-42f8-8b4a-7fcc01abb699"
      },
      "source": [
        "all_data.population.fillna(all_data.groupby(['subvillage'])['population'].transform('median'), inplace=True)\n",
        "all_data.population.isnull().sum()"
      ],
      "execution_count": null,
      "outputs": [
        {
          "output_type": "execute_result",
          "data": {
            "text/plain": [
              "19359"
            ]
          },
          "metadata": {},
          "execution_count": 344
        }
      ]
    },
    {
      "cell_type": "code",
      "metadata": {
        "colab": {
          "base_uri": "https://localhost:8080/"
        },
        "id": "r-nQz7_JyLGt",
        "outputId": "093e6c6b-c2dd-4149-eed2-3395564c86e3"
      },
      "source": [
        "all_data.population.fillna(all_data.groupby(['ward'])['population'].transform('median'), inplace=True)\n",
        "all_data.population.isnull().sum()"
      ],
      "execution_count": null,
      "outputs": [
        {
          "output_type": "execute_result",
          "data": {
            "text/plain": [
              "2364"
            ]
          },
          "metadata": {},
          "execution_count": 345
        }
      ]
    },
    {
      "cell_type": "code",
      "metadata": {
        "colab": {
          "base_uri": "https://localhost:8080/"
        },
        "id": "9bx19y7PyPHo",
        "outputId": "f7ac97e5-1697-4649-bc17-0da0f0529f36"
      },
      "source": [
        "all_data.population.fillna(all_data.groupby(['lga'])['population'].transform('median'), inplace=True)\n",
        "all_data.population.isnull().sum()"
      ],
      "execution_count": null,
      "outputs": [
        {
          "output_type": "execute_result",
          "data": {
            "text/plain": [
              "114"
            ]
          },
          "metadata": {},
          "execution_count": 346
        }
      ]
    },
    {
      "cell_type": "code",
      "metadata": {
        "colab": {
          "base_uri": "https://localhost:8080/"
        },
        "id": "SFEOhMeryUfe",
        "outputId": "48652ace-c814-4721-fc8a-c1d3bddb384c"
      },
      "source": [
        "all_data.population.fillna(all_data.groupby(['region_code'])['population'].transform('median'), inplace=True)\n",
        "all_data.population.isnull().sum()"
      ],
      "execution_count": null,
      "outputs": [
        {
          "output_type": "execute_result",
          "data": {
            "text/plain": [
              "0"
            ]
          },
          "metadata": {},
          "execution_count": 347
        }
      ]
    },
    {
      "cell_type": "code",
      "metadata": {
        "colab": {
          "base_uri": "https://localhost:8080/",
          "height": 351
        },
        "id": "Z3zQnVdDyYad",
        "outputId": "009fb5f3-cf53-45a7-cd4b-060279f6c0b8"
      },
      "source": [
        "sns.distplot(all_data.population)"
      ],
      "execution_count": null,
      "outputs": [
        {
          "output_type": "stream",
          "name": "stderr",
          "text": [
            "/usr/local/lib/python3.7/dist-packages/seaborn/distributions.py:2619: FutureWarning: `distplot` is a deprecated function and will be removed in a future version. Please adapt your code to use either `displot` (a figure-level function with similar flexibility) or `histplot` (an axes-level function for histograms).\n",
            "  warnings.warn(msg, FutureWarning)\n"
          ]
        },
        {
          "output_type": "execute_result",
          "data": {
            "text/plain": [
              "<matplotlib.axes._subplots.AxesSubplot at 0x7f4a1e228b50>"
            ]
          },
          "metadata": {},
          "execution_count": 348
        },
        {
          "output_type": "display_data",
          "data": {
            "image/png": "[encoded data removed]",
            "text/plain": [
              "<Figure size 432x288 with 1 Axes>"
            ]
          },
          "metadata": {
            "needs_background": "light"
          }
        }
      ]
    },
    {
      "cell_type": "code",
      "metadata": {
        "colab": {
          "base_uri": "https://localhost:8080/",
          "height": 334
        },
        "id": "abyuIjjIygRI",
        "outputId": "6653a233-6707-4024-c043-1a5260dee7ef"
      },
      "source": [
        "sns.distplot(np.log1p(all_data.population));"
      ],
      "execution_count": null,
      "outputs": [
        {
          "output_type": "stream",
          "name": "stderr",
          "text": [
            "/usr/local/lib/python3.7/dist-packages/seaborn/distributions.py:2619: FutureWarning: `distplot` is a deprecated function and will be removed in a future version. Please adapt your code to use either `displot` (a figure-level function with similar flexibility) or `histplot` (an axes-level function for histograms).\n",
            "  warnings.warn(msg, FutureWarning)\n"
          ]
        },
        {
          "output_type": "display_data",
          "data": {
            "image/png": "[encoded data removed]",
            "text/plain": [
              "<Figure size 432x288 with 1 Axes>"
            ]
          },
          "metadata": {
            "needs_background": "light"
          }
        }
      ]
    },
    {
      "cell_type": "code",
      "metadata": {
        "id": "aoa600wNyoK3"
      },
      "source": [
        "all_data['population_log'] = np.log1p(all_data.population)\n",
        "all_data = all_data.drop('population', axis=1)"
      ],
      "execution_count": null,
      "outputs": []
    },
    {
      "cell_type": "code",
      "metadata": {
        "colab": {
          "base_uri": "https://localhost:8080/",
          "height": 265
        },
        "id": "5YoHsIDky0Uf",
        "outputId": "4fa7299c-aed7-44c1-b93c-9704ed04bdfb"
      },
      "source": [
        "plt.scatter(all_data.longitude, all_data.latitude, alpha = .8, c = all_data.population_log, cmap = 'YlGn')\n",
        "cbar = plt.colorbar()"
      ],
      "execution_count": null,
      "outputs": [
        {
          "output_type": "display_data",
          "data": {
            "image/png": "[encoded data removed]",
            "text/plain": [
              "<Figure size 432x288 with 2 Axes>"
            ]
          },
          "metadata": {
            "needs_background": "light"
          }
        }
      ]
    },
    {
      "cell_type": "code",
      "metadata": {
        "colab": {
          "base_uri": "https://localhost:8080/"
        },
        "id": "8w7GO075y76e",
        "outputId": "1d9ad0ae-0c6a-4822-e5be-42fc7da94faf"
      },
      "source": [
        "all_data.groupby(['public_meeting']).size()"
      ],
      "execution_count": null,
      "outputs": [
        {
          "output_type": "execute_result",
          "data": {
            "text/plain": [
              "public_meeting\n",
              "False     6346\n",
              "True     63749\n",
              "dtype: int64"
            ]
          },
          "metadata": {},
          "execution_count": 352
        }
      ]
    },
    {
      "cell_type": "code",
      "metadata": {
        "colab": {
          "base_uri": "https://localhost:8080/"
        },
        "id": "Mk_Cn8mYzGtE",
        "outputId": "84270ee9-701f-46b5-e2e5-59cae8aaf666"
      },
      "source": [
        "all_data.loc[all_data.public_meeting == True, 'public_meeting'] = 1\n",
        "all_data.loc[all_data.public_meeting == False, 'public_meeting'] = 0\n",
        "all_data.public_meeting = all_data.public_meeting.astype('int', errors='ignore')\n",
        "all_data.public_meeting.fillna(1, inplace=True)\n",
        "all_data.public_meeting.isnull().sum()"
      ],
      "execution_count": null,
      "outputs": [
        {
          "output_type": "execute_result",
          "data": {
            "text/plain": [
              "0"
            ]
          },
          "metadata": {},
          "execution_count": 353
        }
      ]
    },
    {
      "cell_type": "code",
      "metadata": {
        "colab": {
          "base_uri": "https://localhost:8080/"
        },
        "id": "HDZj_wD0zPoH",
        "outputId": "44ffe69a-c8d6-4b8d-c227-b6ab0923dc66"
      },
      "source": [
        "all_data.recorded_by.unique() "
      ],
      "execution_count": null,
      "outputs": [
        {
          "output_type": "execute_result",
          "data": {
            "text/plain": [
              "array(['GeoData Consultants Ltd'], dtype=object)"
            ]
          },
          "metadata": {},
          "execution_count": 354
        }
      ]
    },
    {
      "cell_type": "code",
      "metadata": {
        "id": "I7mrhHAfzT_I"
      },
      "source": [
        "all=all_data.drop('recorded_by',axis=1)"
      ],
      "execution_count": null,
      "outputs": []
    },
    {
      "cell_type": "code",
      "metadata": {
        "colab": {
          "base_uri": "https://localhost:8080/"
        },
        "id": "OpEcjbiJzZmF",
        "outputId": "a4b7def9-7db4-4426-ca0b-0ac9ff3ecf6b"
      },
      "source": [
        "all_data.scheme_management.fillna('other', inplace=True)\n",
        "all_data.scheme_management.isnull().sum()"
      ],
      "execution_count": null,
      "outputs": [
        {
          "output_type": "execute_result",
          "data": {
            "text/plain": [
              "0"
            ]
          },
          "metadata": {},
          "execution_count": 356
        }
      ]
    },
    {
      "cell_type": "code",
      "metadata": {
        "colab": {
          "base_uri": "https://localhost:8080/"
        },
        "id": "yVy2FHdqzyU3",
        "outputId": "2ab7de92-e771-4db9-cfb4-be2ffe9a8be4"
      },
      "source": [
        "all_data.groupby(['scheme_management']).size().sort_values(ascending=False)[:10]"
      ],
      "execution_count": null,
      "outputs": [
        {
          "output_type": "execute_result",
          "data": {
            "text/plain": [
              "scheme_management\n",
              "VWC                 45917\n",
              "WUG                  6496\n",
              "other                4846\n",
              "Water authority      3975\n",
              "WUA                  3551\n",
              "Water Board          3462\n",
              "Parastatal           2124\n",
              "Company              1341\n",
              "Private operator     1326\n",
              "Other                 996\n",
              "dtype: int64"
            ]
          },
          "metadata": {},
          "execution_count": 357
        }
      ]
    },
    {
      "cell_type": "code",
      "metadata": {
        "id": "ctE66akcz3iU"
      },
      "source": [
        "all_data = all_data.drop('scheme_name', axis=1)"
      ],
      "execution_count": null,
      "outputs": []
    },
    {
      "cell_type": "code",
      "metadata": {
        "colab": {
          "base_uri": "https://localhost:8080/"
        },
        "id": "QuDbILgk0XBc",
        "outputId": "8f1a007d-2045-41f3-c1ca-112959314326"
      },
      "source": [
        "all_data.groupby(['permit'])['id'].count().sort_values(ascending=False)"
      ],
      "execution_count": null,
      "outputs": [
        {
          "output_type": "execute_result",
          "data": {
            "text/plain": [
              "permit\n",
              "True     48606\n",
              "False    21851\n",
              "Name: id, dtype: int64"
            ]
          },
          "metadata": {},
          "execution_count": 359
        }
      ]
    },
    {
      "cell_type": "code",
      "metadata": {
        "colab": {
          "base_uri": "https://localhost:8080/"
        },
        "id": "RmXjsrOz3CgY",
        "outputId": "b68215d4-7b28-4a57-96a5-b2ea17686cca"
      },
      "source": [
        "all_data.permit.isnull().sum()"
      ],
      "execution_count": null,
      "outputs": [
        {
          "output_type": "execute_result",
          "data": {
            "text/plain": [
              "3793"
            ]
          },
          "metadata": {},
          "execution_count": 360
        }
      ]
    },
    {
      "cell_type": "code",
      "metadata": {
        "id": "s6Mtl4F83N6F"
      },
      "source": [
        "all_data.permit.fillna('True',inplace=True)"
      ],
      "execution_count": null,
      "outputs": []
    },
    {
      "cell_type": "code",
      "metadata": {
        "colab": {
          "base_uri": "https://localhost:8080/",
          "height": 352
        },
        "id": "M0FSMIzV1rXy",
        "outputId": "2cd68afe-e0bf-4fbb-b220-79760fe8c5a3"
      },
      "source": [
        "sns.distplot(all_data.construction_year) "
      ],
      "execution_count": null,
      "outputs": [
        {
          "output_type": "stream",
          "name": "stderr",
          "text": [
            "/usr/local/lib/python3.7/dist-packages/seaborn/distributions.py:2619: FutureWarning: `distplot` is a deprecated function and will be removed in a future version. Please adapt your code to use either `displot` (a figure-level function with similar flexibility) or `histplot` (an axes-level function for histograms).\n",
            "  warnings.warn(msg, FutureWarning)\n"
          ]
        },
        {
          "output_type": "execute_result",
          "data": {
            "text/plain": [
              "<matplotlib.axes._subplots.AxesSubplot at 0x7f4a1cd2a250>"
            ]
          },
          "metadata": {},
          "execution_count": 362
        },
        {
          "output_type": "display_data",
          "data": {
            "image/png": "[encoded data removed]",
            "text/plain": [
              "<Figure size 432x288 with 1 Axes>"
            ]
          },
          "metadata": {
            "needs_background": "light"
          }
        }
      ]
    },
    {
      "cell_type": "code",
      "metadata": {
        "colab": {
          "base_uri": "https://localhost:8080/"
        },
        "id": "qp2v0hoq3Aji",
        "outputId": "324f7198-a195-4df6-cc41-d9454b66d92f"
      },
      "source": [
        "all_data.loc[all_data.construction_year == 0, 'construction_year'] = np.nan\n",
        "all_data.construction_year.isnull().sum()"
      ],
      "execution_count": null,
      "outputs": [
        {
          "output_type": "execute_result",
          "data": {
            "text/plain": [
              "25969"
            ]
          },
          "metadata": {},
          "execution_count": 363
        }
      ]
    },
    {
      "cell_type": "code",
      "metadata": {
        "colab": {
          "base_uri": "https://localhost:8080/"
        },
        "id": "ye3h39Vf3jMS",
        "outputId": "86af4b76-422e-4d7e-f4b6-1aaa0759202f"
      },
      "source": [
        "all_data.construction_year.fillna(all_data.groupby(['subvillage'])['construction_year'] \\\n",
        "                                  .transform('median'), inplace=True)\n",
        "all_data.construction_year.isnull().sum()"
      ],
      "execution_count": null,
      "outputs": [
        {
          "output_type": "execute_result",
          "data": {
            "text/plain": [
              "18875"
            ]
          },
          "metadata": {},
          "execution_count": 364
        }
      ]
    },
    {
      "cell_type": "code",
      "metadata": {
        "colab": {
          "base_uri": "https://localhost:8080/"
        },
        "id": "sOjhAE2M3s87",
        "outputId": "af705e57-d7c7-4efd-e3a6-5e8c1d8c5556"
      },
      "source": [
        "all_data.construction_year.fillna(all_data.groupby(['ward'])['construction_year'] \\\n",
        "                                  .transform('median'), inplace=True)\n",
        "all_data.construction_year.isnull().sum()"
      ],
      "execution_count": null,
      "outputs": [
        {
          "output_type": "execute_result",
          "data": {
            "text/plain": [
              "2205"
            ]
          },
          "metadata": {},
          "execution_count": 365
        }
      ]
    },
    {
      "cell_type": "code",
      "metadata": {
        "colab": {
          "base_uri": "https://localhost:8080/"
        },
        "id": "Vl5zvOC93xm4",
        "outputId": "59d6aee8-f3b6-4825-9e49-69e988107408"
      },
      "source": [
        "all_data.construction_year.fillna(all_data.groupby(['lga'])['construction_year'] \\\n",
        "                                  .transform('median'), inplace=True)\n",
        "all_data.construction_year.isnull().sum()"
      ],
      "execution_count": null,
      "outputs": [
        {
          "output_type": "execute_result",
          "data": {
            "text/plain": [
              "114"
            ]
          },
          "metadata": {},
          "execution_count": 366
        }
      ]
    },
    {
      "cell_type": "code",
      "metadata": {
        "colab": {
          "base_uri": "https://localhost:8080/"
        },
        "id": "upnCfcDB31yD",
        "outputId": "cb775d99-e064-4fab-bdb0-5a8f640a8fd9"
      },
      "source": [
        "all_data.construction_year.fillna(all_data.groupby(['region_code'])['construction_year'] \\\n",
        "                                  .transform('median'), inplace=True)\n",
        "all_data.construction_year.isnull().sum()"
      ],
      "execution_count": null,
      "outputs": [
        {
          "output_type": "execute_result",
          "data": {
            "text/plain": [
              "0"
            ]
          },
          "metadata": {},
          "execution_count": 367
        }
      ]
    },
    {
      "cell_type": "code",
      "metadata": {
        "id": "KjSnoCZb38vm"
      },
      "source": [
        "all_data.construction_year = all_data.construction_year.round(0)"
      ],
      "execution_count": null,
      "outputs": []
    },
    {
      "cell_type": "code",
      "metadata": {
        "colab": {
          "base_uri": "https://localhost:8080/",
          "height": 352
        },
        "id": "zSU5hIOO4NGS",
        "outputId": "47ac3d07-3af1-4d47-9570-ccd9441c7e3d"
      },
      "source": [
        "sns.distplot(all_data.construction_year)"
      ],
      "execution_count": null,
      "outputs": [
        {
          "output_type": "stream",
          "name": "stderr",
          "text": [
            "/usr/local/lib/python3.7/dist-packages/seaborn/distributions.py:2619: FutureWarning: `distplot` is a deprecated function and will be removed in a future version. Please adapt your code to use either `displot` (a figure-level function with similar flexibility) or `histplot` (an axes-level function for histograms).\n",
            "  warnings.warn(msg, FutureWarning)\n"
          ]
        },
        {
          "output_type": "execute_result",
          "data": {
            "text/plain": [
              "<matplotlib.axes._subplots.AxesSubplot at 0x7f4a1cc03790>"
            ]
          },
          "metadata": {},
          "execution_count": 369
        },
        {
          "output_type": "display_data",
          "data": {
            "image/png": "[encoded data removed]",
            "text/plain": [
              "<Figure size 432x288 with 1 Axes>"
            ]
          },
          "metadata": {
            "needs_background": "light"
          }
        }
      ]
    },
    {
      "cell_type": "code",
      "metadata": {
        "colab": {
          "base_uri": "https://localhost:8080/"
        },
        "id": "UlskIehn4S4k",
        "outputId": "c2b746f7-23f2-41c9-dff1-21cc82390e82"
      },
      "source": [
        "all_data.groupby(['extraction_type','extraction_type_group','extraction_type_class']).size()[:10] "
      ],
      "execution_count": null,
      "outputs": [
        {
          "output_type": "execute_result",
          "data": {
            "text/plain": [
              "extraction_type  extraction_type_group  extraction_type_class\n",
              "afridev          afridev                handpump                  2208\n",
              "cemo             other motorpump        motorpump                  108\n",
              "climax           other motorpump        motorpump                   41\n",
              "gravity          gravity                gravity                  33263\n",
              "india mark ii    india mark ii          handpump                  3029\n",
              "india mark iii   india mark iii         handpump                   135\n",
              "ksb              submersible            submersible               1790\n",
              "mono             mono                   motorpump                 3628\n",
              "nira/tanira      nira/tanira            handpump                 10205\n",
              "other            other                  other                     8102\n",
              "dtype: int64"
            ]
          },
          "metadata": {},
          "execution_count": 370
        }
      ]
    },
    {
      "cell_type": "code",
      "metadata": {
        "id": "veYfViuV4pgZ"
      },
      "source": [
        "all_data = all_data.drop('extraction_type', axis=1)\n",
        "all_data = all_data.drop('extraction_type_group', axis=1)\n",
        "all_data.loc[all_data.scheme_management == 'None', 'scheme_management'] = 'other'"
      ],
      "execution_count": null,
      "outputs": []
    },
    {
      "cell_type": "code",
      "metadata": {
        "colab": {
          "base_uri": "https://localhost:8080/"
        },
        "id": "8IVSpifz4vrK",
        "outputId": "428e517f-0531-4367-a15e-e225cc99661e"
      },
      "source": [
        "all_data.groupby(['payment','payment_type']).size()"
      ],
      "execution_count": null,
      "outputs": [
        {
          "output_type": "execute_result",
          "data": {
            "text/plain": [
              "payment                payment_type\n",
              "never pay              never pay       31712\n",
              "other                  other            1314\n",
              "pay annually           annually         4570\n",
              "pay monthly            monthly         10397\n",
              "pay per bucket         per bucket      11266\n",
              "pay when scheme fails  on failure       4842\n",
              "unknown                unknown         10149\n",
              "dtype: int64"
            ]
          },
          "metadata": {},
          "execution_count": 372
        }
      ]
    },
    {
      "cell_type": "code",
      "metadata": {
        "id": "AN6FdTjm5HN_"
      },
      "source": [
        "all_data = all_data.drop('payment', axis=1)"
      ],
      "execution_count": null,
      "outputs": []
    },
    {
      "cell_type": "code",
      "metadata": {
        "colab": {
          "base_uri": "https://localhost:8080/"
        },
        "id": "_rQexCAD5Mv8",
        "outputId": "8a9d6288-48fe-425c-9f60-8c5f19a17168"
      },
      "source": [
        "all_data.groupby(['water_quality','quality_group']).size()"
      ],
      "execution_count": null,
      "outputs": [
        {
          "output_type": "execute_result",
          "data": {
            "text/plain": [
              "water_quality       quality_group\n",
              "coloured            colored            623\n",
              "fluoride            fluoride           244\n",
              "fluoride abandoned  fluoride            23\n",
              "milky               milky             1005\n",
              "salty               salty             6082\n",
              "salty abandoned     salty              423\n",
              "soft                good             63505\n",
              "unknown             unknown           2345\n",
              "dtype: int64"
            ]
          },
          "metadata": {},
          "execution_count": 374
        }
      ]
    },
    {
      "cell_type": "code",
      "metadata": {
        "id": "7WEeNb715Vxj"
      },
      "source": [
        "all_data = all_data.drop('quality_group', axis=1)"
      ],
      "execution_count": null,
      "outputs": []
    },
    {
      "cell_type": "code",
      "metadata": {
        "colab": {
          "base_uri": "https://localhost:8080/"
        },
        "id": "h4Xt-Y9d5ZaW",
        "outputId": "8f53453d-8405-4459-f5bf-6501aff71cba"
      },
      "source": [
        "all_data.groupby(['source','source_type','source_class']).size()"
      ],
      "execution_count": null,
      "outputs": [
        {
          "output_type": "execute_result",
          "data": {
            "text/plain": [
              "source                source_type           source_class\n",
              "dam                   dam                   surface           840\n",
              "hand dtw              borehole              groundwater      1108\n",
              "lake                  river/lake            surface           950\n",
              "machine dbh           borehole              groundwater     13822\n",
              "other                 other                 unknown           261\n",
              "rainwater harvesting  rainwater harvesting  surface          2863\n",
              "river                 river/lake            surface         11964\n",
              "shallow well          shallow well          groundwater     21140\n",
              "spring                spring                groundwater     21216\n",
              "unknown               other                 unknown            86\n",
              "dtype: int64"
            ]
          },
          "metadata": {},
          "execution_count": 376
        }
      ]
    },
    {
      "cell_type": "code",
      "metadata": {
        "id": "S9ZlN60a6VSC"
      },
      "source": [
        "all_data = all_data.drop('source_type', axis=1)"
      ],
      "execution_count": null,
      "outputs": []
    },
    {
      "cell_type": "code",
      "metadata": {
        "colab": {
          "base_uri": "https://localhost:8080/"
        },
        "id": "D9HTE2Mp6eJH",
        "outputId": "0d78dd9e-12fd-400e-b0a4-9716e5cba029"
      },
      "source": [
        "all_data.groupby(['waterpoint_type','waterpoint_type_group']).size() "
      ],
      "execution_count": null,
      "outputs": [
        {
          "output_type": "execute_result",
          "data": {
            "text/plain": [
              "waterpoint_type              waterpoint_type_group\n",
              "cattle trough                cattle trough              150\n",
              "communal standpipe           communal standpipe       35628\n",
              "communal standpipe multiple  communal standpipe        7611\n",
              "dam                          dam                          8\n",
              "hand pump                    hand pump                21884\n",
              "improved spring              improved spring            959\n",
              "other                        other                     8010\n",
              "dtype: int64"
            ]
          },
          "metadata": {},
          "execution_count": 378
        }
      ]
    },
    {
      "cell_type": "code",
      "metadata": {
        "id": "E1JdVfCF6otd"
      },
      "source": [
        "all_data = all_data.drop('waterpoint_type_group', axis=1)"
      ],
      "execution_count": null,
      "outputs": []
    },
    {
      "cell_type": "markdown",
      "metadata": {
        "id": "fAnaKaHk6xOB"
      },
      "source": [
        "# Feature Engineering"
      ]
    },
    {
      "cell_type": "code",
      "metadata": {
        "colab": {
          "base_uri": "https://localhost:8080/",
          "height": 351
        },
        "id": "acQRxBHn6t4p",
        "outputId": "8004da38-0c1c-4e40-d955-d1ca987288ea"
      },
      "source": [
        "all_data['age'] = all_data.year_recorded - all_data.construction_year\n",
        "sns.distplot(all_data.age)"
      ],
      "execution_count": null,
      "outputs": [
        {
          "output_type": "stream",
          "name": "stderr",
          "text": [
            "/usr/local/lib/python3.7/dist-packages/seaborn/distributions.py:2619: FutureWarning: `distplot` is a deprecated function and will be removed in a future version. Please adapt your code to use either `displot` (a figure-level function with similar flexibility) or `histplot` (an axes-level function for histograms).\n",
            "  warnings.warn(msg, FutureWarning)\n"
          ]
        },
        {
          "output_type": "execute_result",
          "data": {
            "text/plain": [
              "<matplotlib.axes._subplots.AxesSubplot at 0x7f4a1ec02790>"
            ]
          },
          "metadata": {},
          "execution_count": 380
        },
        {
          "output_type": "display_data",
          "data": {
            "image/png": "[encoded data removed]",
            "text/plain": [
              "<Figure size 432x288 with 1 Axes>"
            ]
          },
          "metadata": {
            "needs_background": "light"
          }
        }
      ]
    },
    {
      "cell_type": "code",
      "metadata": {
        "id": "4uAdvUl67KcA"
      },
      "source": [
        "all_data.loc[all_data.age < 0, 'age'] = all_data.age.mean()"
      ],
      "execution_count": null,
      "outputs": []
    },
    {
      "cell_type": "code",
      "metadata": {
        "colab": {
          "base_uri": "https://localhost:8080/",
          "height": 386
        },
        "id": "ZB3WOw707dgA",
        "outputId": "8fb7f14f-2965-4774-8726-2230f1d00199"
      },
      "source": [
        "sns.displot(all_data.age)"
      ],
      "execution_count": null,
      "outputs": [
        {
          "output_type": "execute_result",
          "data": {
            "text/plain": [
              "<seaborn.axisgrid.FacetGrid at 0x7f4a1ce3e590>"
            ]
          },
          "metadata": {},
          "execution_count": 382
        },
        {
          "output_type": "display_data",
          "data": {
            "image/png": "[encoded data removed]",
            "text/plain": [
              "<Figure size 360x360 with 1 Axes>"
            ]
          },
          "metadata": {
            "needs_background": "light"
          }
        }
      ]
    },
    {
      "cell_type": "code",
      "metadata": {
        "colab": {
          "base_uri": "https://localhost:8080/"
        },
        "id": "4ZW12uyX8biN",
        "outputId": "9bf2dda0-f6a8-4b7a-dd0f-1dbf731fa1a1"
      },
      "source": [
        "all_data.loc[(all_data.month_recorded <= 2) & (all_data.month_recorded >= 1), 'season'] = 1\n",
        "all_data.loc[(all_data.month_recorded <= 5) & (all_data.month_recorded >= 3), 'season'] = 2\n",
        "all_data.loc[(all_data.month_recorded <= 10) & (all_data.month_recorded >= 6), 'season'] = 3\n",
        "all_data.loc[(all_data.month_recorded <= 12) & (all_data.month_recorded >= 11), 'season'] = 4\n",
        "all_data.groupby(['season']).size()"
      ],
      "execution_count": null,
      "outputs": [
        {
          "output_type": "execute_result",
          "data": {
            "text/plain": [
              "season\n",
              "1.0    23384\n",
              "2.0    27802\n",
              "3.0    20610\n",
              "4.0     2454\n",
              "dtype: int64"
            ]
          },
          "metadata": {},
          "execution_count": 383
        }
      ]
    },
    {
      "cell_type": "code",
      "metadata": {
        "colab": {
          "base_uri": "https://localhost:8080/",
          "height": 34
        },
        "id": "VZGxvQk-8uSM",
        "outputId": "07d431cc-4a4f-49e3-8c27-f9bd065c6d70"
      },
      "source": [
        "all_data.to_csv('all_data.csv')\n",
        "from google.colab import files\n",
        "files.download('all_data.csv')"
      ],
      "execution_count": null,
      "outputs": [
        {
          "output_type": "display_data",
          "data": {
            "application/javascript": [
              "\n",
              "    async function download(id, filename, size) {\n",
              "      if (!google.colab.kernel.accessAllowed) {\n",
              "        return;\n",
              "      }\n",
              "      const div = document.createElement('div');\n",
              "      const label = document.createElement('label');\n",
              "      label.textContent = `Downloading \"${filename}\": `;\n",
              "      div.appendChild(label);\n",
              "      const progress = document.createElement('progress');\n",
              "      progress.max = size;\n",
              "      div.appendChild(progress);\n",
              "      document.body.appendChild(div);\n",
              "\n",
              "      const buffers = [];\n",
              "      let downloaded = 0;\n",
              "\n",
              "      const channel = await google.colab.kernel.comms.open(id);\n",
              "      // Send a message to notify the kernel that we're ready.\n",
              "      channel.send({})\n",
              "\n",
              "      for await (const message of channel.messages) {\n",
              "        // Send a message to notify the kernel that we're ready.\n",
              "        channel.send({})\n",
              "        if (message.buffers) {\n",
              "          for (const buffer of message.buffers) {\n",
              "            buffers.push(buffer);\n",
              "            downloaded += buffer.byteLength;\n",
              "            progress.value = downloaded;\n",
              "          }\n",
              "        }\n",
              "      }\n",
              "      const blob = new Blob(buffers, {type: 'application/binary'});\n",
              "      const a = document.createElement('a');\n",
              "      a.href = window.URL.createObjectURL(blob);\n",
              "      a.download = filename;\n",
              "      div.appendChild(a);\n",
              "      a.click();\n",
              "      div.remove();\n",
              "    }\n",
              "  "
            ],
            "text/plain": [
              "<IPython.core.display.Javascript object>"
            ]
          },
          "metadata": {}
        },
        {
          "output_type": "display_data",
          "data": {
            "application/javascript": [
              "download(\"download_1327acc8-28b5-4168-8c00-8c56954a4693\", \"all_data.csv\", 20732180)"
            ],
            "text/plain": [
              "<IPython.core.display.Javascript object>"
            ]
          },
          "metadata": {}
        }
      ]
    },
    {
      "cell_type": "code",
      "metadata": {
        "id": "_0LG8yPd9p9d"
      },
      "source": [
        ""
      ],
      "execution_count": null,
      "outputs": []
    }
  ]
}